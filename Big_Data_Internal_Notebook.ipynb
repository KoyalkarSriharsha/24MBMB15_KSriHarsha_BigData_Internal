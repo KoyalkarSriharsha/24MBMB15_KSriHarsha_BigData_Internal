{
 "cells": [
  {
   "cell_type": "code",
   "execution_count": 0,
   "metadata": {
    "application/vnd.databricks.v1+cell": {
     "cellMetadata": {
      "byteLimit": 2048000,
      "rowLimit": 10000
     },
     "inputWidgets": {},
     "nuid": "7f7d0fc0-7cfe-480a-82fd-6b9685fd3b0e",
     "showTitle": false,
     "tableResultSettingsMap": {},
     "title": ""
    }
   },
   "outputs": [
    {
     "output_type": "execute_result",
     "data": {
      "text/html": [
       "<div>\n",
       "<style scoped>\n",
       "    .dataframe tbody tr th:only-of-type {\n",
       "        vertical-align: middle;\n",
       "    }\n",
       "\n",
       "    .dataframe tbody tr th {\n",
       "        vertical-align: top;\n",
       "    }\n",
       "\n",
       "    .dataframe thead th {\n",
       "        text-align: right;\n",
       "    }\n",
       "</style>\n",
       "<table border=\"1\" class=\"dataframe\">\n",
       "  <thead>\n",
       "    <tr style=\"text-align: right;\">\n",
       "      <th></th>\n",
       "      <th>customer_id</th>\n",
       "      <th>customer_name</th>\n",
       "      <th>customer_locality</th>\n",
       "      <th>restaurant_id</th>\n",
       "      <th>restaurant_name</th>\n",
       "      <th>restaurant_locality</th>\n",
       "      <th>delivery_partner_id</th>\n",
       "      <th>delivery_partner_name</th>\n",
       "      <th>delivery_partner_locality</th>\n",
       "      <th>order_value</th>\n",
       "      <th>order_time</th>\n",
       "      <th>delivery_time</th>\n",
       "      <th>delivery_duration</th>\n",
       "      <th>cancelled</th>\n",
       "    </tr>\n",
       "  </thead>\n",
       "  <tbody>\n",
       "    <tr>\n",
       "      <th>0</th>\n",
       "      <td>CUST001</td>\n",
       "      <td>Customer_1</td>\n",
       "      <td>Madhapur</td>\n",
       "      <td>REST007</td>\n",
       "      <td>Restaurant_REST007</td>\n",
       "      <td>Hitech City</td>\n",
       "      <td>DP02</td>\n",
       "      <td>Partner_DP02</td>\n",
       "      <td>Miyapur</td>\n",
       "      <td>313.56</td>\n",
       "      <td>2025-09-01 12:01:00</td>\n",
       "      <td>2025-09-01 12:38:00</td>\n",
       "      <td>37.0</td>\n",
       "      <td>0</td>\n",
       "    </tr>\n",
       "    <tr>\n",
       "      <th>1</th>\n",
       "      <td>CUST002</td>\n",
       "      <td>Customer_2</td>\n",
       "      <td>Kukatpally</td>\n",
       "      <td>REST009</td>\n",
       "      <td>Restaurant_REST009</td>\n",
       "      <td>Jubilee Hills</td>\n",
       "      <td>DP03</td>\n",
       "      <td>Partner_DP03</td>\n",
       "      <td>Miyapur</td>\n",
       "      <td>490.63</td>\n",
       "      <td>2025-09-01 10:24:00</td>\n",
       "      <td>2025-09-01 11:17:00</td>\n",
       "      <td>53.0</td>\n",
       "      <td>0</td>\n",
       "    </tr>\n",
       "    <tr>\n",
       "      <th>2</th>\n",
       "      <td>CUST003</td>\n",
       "      <td>Customer_3</td>\n",
       "      <td>Kukatpally</td>\n",
       "      <td>REST003</td>\n",
       "      <td>Restaurant_REST003</td>\n",
       "      <td>Begumpet</td>\n",
       "      <td>DP05</td>\n",
       "      <td>Partner_DP05</td>\n",
       "      <td>Miyapur</td>\n",
       "      <td>504.77</td>\n",
       "      <td>2025-09-01 18:03:00</td>\n",
       "      <td>2025-09-01 19:26:00</td>\n",
       "      <td>83.0</td>\n",
       "      <td>0</td>\n",
       "    </tr>\n",
       "    <tr>\n",
       "      <th>3</th>\n",
       "      <td>CUST004</td>\n",
       "      <td>Customer_4</td>\n",
       "      <td>Gachibowli</td>\n",
       "      <td>REST005</td>\n",
       "      <td>Restaurant_REST005</td>\n",
       "      <td>Begumpet</td>\n",
       "      <td>DP03</td>\n",
       "      <td>Partner_DP03</td>\n",
       "      <td>Secunderabad</td>\n",
       "      <td>429.83</td>\n",
       "      <td>2025-09-01 14:47:00</td>\n",
       "      <td>2025-09-01 16:08:00</td>\n",
       "      <td>81.0</td>\n",
       "      <td>0</td>\n",
       "    </tr>\n",
       "    <tr>\n",
       "      <th>4</th>\n",
       "      <td>CUST005</td>\n",
       "      <td>Customer_5</td>\n",
       "      <td>Banjara Hills</td>\n",
       "      <td>REST001</td>\n",
       "      <td>Restaurant_REST001</td>\n",
       "      <td>Hitech City</td>\n",
       "      <td>DP04</td>\n",
       "      <td>Partner_DP04</td>\n",
       "      <td>Miyapur</td>\n",
       "      <td>759.89</td>\n",
       "      <td>2025-09-01 13:34:00</td>\n",
       "      <td>2025-09-01 14:13:00</td>\n",
       "      <td>39.0</td>\n",
       "      <td>1</td>\n",
       "    </tr>\n",
       "  </tbody>\n",
       "</table>\n",
       "</div>"
      ],
      "text/plain": [
       "  customer_id customer_name  ... delivery_duration cancelled\n",
       "0     CUST001    Customer_1  ...              37.0         0\n",
       "1     CUST002    Customer_2  ...              53.0         0\n",
       "2     CUST003    Customer_3  ...              83.0         0\n",
       "3     CUST004    Customer_4  ...              81.0         0\n",
       "4     CUST005    Customer_5  ...              39.0         1\n",
       "\n",
       "[5 rows x 14 columns]"
      ]
     },
     "execution_count": 14,
     "metadata": {},
     "output_type": "execute_result"
    }
   ],
   "source": [
    "#generate synthetic dataset\n",
    "import pandas as pd\n",
    "import random\n",
    "import os\n",
    "from datetime import datetime, timedelta\n",
    "from builtins import round  # Explicitly import the built-in round function\n",
    "\n",
    "# Parameters\n",
    "n_records = 100\n",
    "customer_localities = [\"Banjara Hills\", \"Kukatpally\", \"Madhapur\", \"Gachibowli\"]\n",
    "restaurant_localities = [\"Hitech City\", \"Jubilee Hills\", \"Begumpet\"]\n",
    "delivery_localities = [\"Miyapur\", \"Secunderabad\", \"Ameerpet\"]\n",
    "\n",
    "data = []\n",
    "for i in range(1, n_records+1):\n",
    "    customer_id = f\"CUST{i:03d}\"\n",
    "    customer_name = f\"Customer_{i}\"\n",
    "    customer_loc = random.choice(customer_localities)\n",
    "    \n",
    "    restaurant_id = f\"REST{random.randint(1,10):03d}\"\n",
    "    restaurant_name = f\"Restaurant_{restaurant_id}\"\n",
    "    restaurant_loc = random.choice(restaurant_localities)\n",
    "    \n",
    "    partner_id = f\"DP{random.randint(1,5):02d}\"\n",
    "    partner_name = f\"Partner_{partner_id}\"\n",
    "    partner_loc = random.choice(delivery_localities)\n",
    "    \n",
    "    order_value = round(random.uniform(150, 800), 2)\n",
    "    order_time = datetime(2025, 9, 1, random.randint(8, 23), random.randint(0,59))\n",
    "    delivery_time = order_time + timedelta(minutes=random.randint(20, 90))\n",
    "    delivery_duration = (delivery_time - order_time).seconds / 60\n",
    "    \n",
    "    cancelled = random.choice([0,0,0,1])  # ~25% chance cancellation\n",
    "    \n",
    "    data.append([\n",
    "        customer_id, customer_name, customer_loc,\n",
    "        restaurant_id, restaurant_name, restaurant_loc,\n",
    "        partner_id, partner_name, partner_loc,\n",
    "        order_value, order_time, delivery_time, delivery_duration, cancelled\n",
    "    ])\n",
    "\n",
    "columns = [\n",
    "    \"customer_id\",\"customer_name\",\"customer_locality\",\n",
    "    \"restaurant_id\",\"restaurant_name\",\"restaurant_locality\",\n",
    "    \"delivery_partner_id\",\"delivery_partner_name\",\"delivery_partner_locality\",\n",
    "    \"order_value\",\"order_time\",\"delivery_time\",\"delivery_duration\",\"cancelled\"\n",
    "]\n",
    "\n",
    "# Store in Pandas DataFrame\n",
    "pdf = pd.DataFrame(data, columns=columns)\n",
    "\n",
    "# Ensure the directory exists\n",
    "csv_dir = \"workspace.default/data\"\n",
    "os.makedirs(csv_dir, exist_ok=True)\n",
    "\n",
    "# Save as CSV for download\n",
    "csv_file = f\"{csv_dir}/food_delivery_orders.csv\"\n",
    "pdf.to_csv(csv_file, index=False)\n",
    "\n",
    "pdf.head()\n"
   ]
  },
  {
   "cell_type": "code",
   "execution_count": 0,
   "metadata": {
    "application/vnd.databricks.v1+cell": {
     "cellMetadata": {
      "byteLimit": 2048000,
      "rowLimit": 10000
     },
     "inputWidgets": {},
     "nuid": "9209b976-758d-4984-a9c8-7a02329e8cde",
     "showTitle": false,
     "tableResultSettingsMap": {},
     "title": ""
    }
   },
   "outputs": [
    {
     "output_type": "display_data",
     "data": {
      "text/html": [
       "<style scoped>\n",
       "  .table-result-container {\n",
       "    max-height: 300px;\n",
       "    overflow: auto;\n",
       "  }\n",
       "  table, th, td {\n",
       "    border: 1px solid black;\n",
       "    border-collapse: collapse;\n",
       "  }\n",
       "  th, td {\n",
       "    padding: 5px;\n",
       "  }\n",
       "  th {\n",
       "    text-align: left;\n",
       "  }\n",
       "</style><div class='table-result-container'><table class='table-result'><thead style='background-color: white'><tr><th>customer_id</th><th>customer_name</th><th>customer_locality</th><th>restaurant_id</th><th>restaurant_name</th><th>restaurant_locality</th><th>delivery_partner_id</th><th>delivery_partner_name</th><th>delivery_partner_locality</th><th>order_value</th><th>order_time</th><th>delivery_time</th><th>delivery_duration</th><th>cancelled</th></tr></thead><tbody><tr><td>CUST001</td><td>Customer_1</td><td>Madhapur</td><td>REST007</td><td>Restaurant_REST007</td><td>Hitech City</td><td>DP02</td><td>Partner_DP02</td><td>Miyapur</td><td>313.56</td><td>2025-09-01T12:01:00.000Z</td><td>2025-09-01T12:38:00.000Z</td><td>37.0</td><td>0</td></tr><tr><td>CUST002</td><td>Customer_2</td><td>Kukatpally</td><td>REST009</td><td>Restaurant_REST009</td><td>Jubilee Hills</td><td>DP03</td><td>Partner_DP03</td><td>Miyapur</td><td>490.63</td><td>2025-09-01T10:24:00.000Z</td><td>2025-09-01T11:17:00.000Z</td><td>53.0</td><td>0</td></tr><tr><td>CUST003</td><td>Customer_3</td><td>Kukatpally</td><td>REST003</td><td>Restaurant_REST003</td><td>Begumpet</td><td>DP05</td><td>Partner_DP05</td><td>Miyapur</td><td>504.77</td><td>2025-09-01T18:03:00.000Z</td><td>2025-09-01T19:26:00.000Z</td><td>83.0</td><td>0</td></tr><tr><td>CUST004</td><td>Customer_4</td><td>Gachibowli</td><td>REST005</td><td>Restaurant_REST005</td><td>Begumpet</td><td>DP03</td><td>Partner_DP03</td><td>Secunderabad</td><td>429.83</td><td>2025-09-01T14:47:00.000Z</td><td>2025-09-01T16:08:00.000Z</td><td>81.0</td><td>0</td></tr><tr><td>CUST005</td><td>Customer_5</td><td>Banjara Hills</td><td>REST001</td><td>Restaurant_REST001</td><td>Hitech City</td><td>DP04</td><td>Partner_DP04</td><td>Miyapur</td><td>759.89</td><td>2025-09-01T13:34:00.000Z</td><td>2025-09-01T14:13:00.000Z</td><td>39.0</td><td>1</td></tr><tr><td>CUST006</td><td>Customer_6</td><td>Kukatpally</td><td>REST006</td><td>Restaurant_REST006</td><td>Jubilee Hills</td><td>DP01</td><td>Partner_DP01</td><td>Miyapur</td><td>290.95</td><td>2025-09-01T12:53:00.000Z</td><td>2025-09-01T14:17:00.000Z</td><td>84.0</td><td>0</td></tr><tr><td>CUST007</td><td>Customer_7</td><td>Gachibowli</td><td>REST002</td><td>Restaurant_REST002</td><td>Jubilee Hills</td><td>DP01</td><td>Partner_DP01</td><td>Miyapur</td><td>366.78</td><td>2025-09-01T14:09:00.000Z</td><td>2025-09-01T15:18:00.000Z</td><td>69.0</td><td>0</td></tr><tr><td>CUST008</td><td>Customer_8</td><td>Kukatpally</td><td>REST007</td><td>Restaurant_REST007</td><td>Begumpet</td><td>DP04</td><td>Partner_DP04</td><td>Ameerpet</td><td>648.16</td><td>2025-09-01T12:08:00.000Z</td><td>2025-09-01T13:11:00.000Z</td><td>63.0</td><td>0</td></tr><tr><td>CUST009</td><td>Customer_9</td><td>Kukatpally</td><td>REST007</td><td>Restaurant_REST007</td><td>Hitech City</td><td>DP04</td><td>Partner_DP04</td><td>Miyapur</td><td>644.63</td><td>2025-09-01T15:04:00.000Z</td><td>2025-09-01T16:31:00.000Z</td><td>87.0</td><td>0</td></tr><tr><td>CUST010</td><td>Customer_10</td><td>Madhapur</td><td>REST007</td><td>Restaurant_REST007</td><td>Hitech City</td><td>DP03</td><td>Partner_DP03</td><td>Miyapur</td><td>585.56</td><td>2025-09-01T14:24:00.000Z</td><td>2025-09-01T15:05:00.000Z</td><td>41.0</td><td>0</td></tr><tr><td>CUST011</td><td>Customer_11</td><td>Kukatpally</td><td>REST008</td><td>Restaurant_REST008</td><td>Jubilee Hills</td><td>DP01</td><td>Partner_DP01</td><td>Ameerpet</td><td>495.37</td><td>2025-09-01T09:05:00.000Z</td><td>2025-09-01T10:13:00.000Z</td><td>68.0</td><td>1</td></tr><tr><td>CUST012</td><td>Customer_12</td><td>Madhapur</td><td>REST007</td><td>Restaurant_REST007</td><td>Jubilee Hills</td><td>DP04</td><td>Partner_DP04</td><td>Miyapur</td><td>773.14</td><td>2025-09-01T13:10:00.000Z</td><td>2025-09-01T14:38:00.000Z</td><td>88.0</td><td>0</td></tr><tr><td>CUST013</td><td>Customer_13</td><td>Kukatpally</td><td>REST008</td><td>Restaurant_REST008</td><td>Begumpet</td><td>DP05</td><td>Partner_DP05</td><td>Miyapur</td><td>733.1</td><td>2025-09-01T11:19:00.000Z</td><td>2025-09-01T11:51:00.000Z</td><td>32.0</td><td>0</td></tr><tr><td>CUST014</td><td>Customer_14</td><td>Kukatpally</td><td>REST003</td><td>Restaurant_REST003</td><td>Begumpet</td><td>DP04</td><td>Partner_DP04</td><td>Miyapur</td><td>250.74</td><td>2025-09-01T21:29:00.000Z</td><td>2025-09-01T22:17:00.000Z</td><td>48.0</td><td>0</td></tr><tr><td>CUST015</td><td>Customer_15</td><td>Gachibowli</td><td>REST006</td><td>Restaurant_REST006</td><td>Hitech City</td><td>DP04</td><td>Partner_DP04</td><td>Ameerpet</td><td>386.72</td><td>2025-09-01T10:52:00.000Z</td><td>2025-09-01T11:54:00.000Z</td><td>62.0</td><td>1</td></tr><tr><td>CUST016</td><td>Customer_16</td><td>Kukatpally</td><td>REST004</td><td>Restaurant_REST004</td><td>Begumpet</td><td>DP03</td><td>Partner_DP03</td><td>Secunderabad</td><td>718.91</td><td>2025-09-01T17:37:00.000Z</td><td>2025-09-01T18:54:00.000Z</td><td>77.0</td><td>1</td></tr><tr><td>CUST017</td><td>Customer_17</td><td>Gachibowli</td><td>REST007</td><td>Restaurant_REST007</td><td>Jubilee Hills</td><td>DP03</td><td>Partner_DP03</td><td>Ameerpet</td><td>785.17</td><td>2025-09-01T21:43:00.000Z</td><td>2025-09-01T23:06:00.000Z</td><td>83.0</td><td>0</td></tr><tr><td>CUST018</td><td>Customer_18</td><td>Banjara Hills</td><td>REST006</td><td>Restaurant_REST006</td><td>Begumpet</td><td>DP05</td><td>Partner_DP05</td><td>Secunderabad</td><td>409.35</td><td>2025-09-01T15:50:00.000Z</td><td>2025-09-01T17:20:00.000Z</td><td>90.0</td><td>1</td></tr><tr><td>CUST019</td><td>Customer_19</td><td>Madhapur</td><td>REST004</td><td>Restaurant_REST004</td><td>Hitech City</td><td>DP04</td><td>Partner_DP04</td><td>Secunderabad</td><td>387.43</td><td>2025-09-01T09:25:00.000Z</td><td>2025-09-01T10:25:00.000Z</td><td>60.0</td><td>0</td></tr><tr><td>CUST020</td><td>Customer_20</td><td>Gachibowli</td><td>REST009</td><td>Restaurant_REST009</td><td>Jubilee Hills</td><td>DP03</td><td>Partner_DP03</td><td>Miyapur</td><td>463.24</td><td>2025-09-01T22:41:00.000Z</td><td>2025-09-01T23:47:00.000Z</td><td>66.0</td><td>1</td></tr><tr><td>CUST021</td><td>Customer_21</td><td>Banjara Hills</td><td>REST005</td><td>Restaurant_REST005</td><td>Jubilee Hills</td><td>DP02</td><td>Partner_DP02</td><td>Ameerpet</td><td>632.4</td><td>2025-09-01T21:19:00.000Z</td><td>2025-09-01T22:22:00.000Z</td><td>63.0</td><td>0</td></tr><tr><td>CUST022</td><td>Customer_22</td><td>Madhapur</td><td>REST003</td><td>Restaurant_REST003</td><td>Jubilee Hills</td><td>DP04</td><td>Partner_DP04</td><td>Miyapur</td><td>659.78</td><td>2025-09-01T11:17:00.000Z</td><td>2025-09-01T12:23:00.000Z</td><td>66.0</td><td>1</td></tr><tr><td>CUST023</td><td>Customer_23</td><td>Madhapur</td><td>REST010</td><td>Restaurant_REST010</td><td>Jubilee Hills</td><td>DP05</td><td>Partner_DP05</td><td>Miyapur</td><td>205.42</td><td>2025-09-01T21:08:00.000Z</td><td>2025-09-01T21:40:00.000Z</td><td>32.0</td><td>0</td></tr><tr><td>CUST024</td><td>Customer_24</td><td>Kukatpally</td><td>REST003</td><td>Restaurant_REST003</td><td>Hitech City</td><td>DP04</td><td>Partner_DP04</td><td>Ameerpet</td><td>298.61</td><td>2025-09-01T15:44:00.000Z</td><td>2025-09-01T16:33:00.000Z</td><td>49.0</td><td>0</td></tr><tr><td>CUST025</td><td>Customer_25</td><td>Kukatpally</td><td>REST006</td><td>Restaurant_REST006</td><td>Begumpet</td><td>DP05</td><td>Partner_DP05</td><td>Miyapur</td><td>548.42</td><td>2025-09-01T18:49:00.000Z</td><td>2025-09-01T19:43:00.000Z</td><td>54.0</td><td>0</td></tr><tr><td>CUST026</td><td>Customer_26</td><td>Madhapur</td><td>REST005</td><td>Restaurant_REST005</td><td>Jubilee Hills</td><td>DP05</td><td>Partner_DP05</td><td>Miyapur</td><td>305.29</td><td>2025-09-01T23:03:00.000Z</td><td>2025-09-02T00:25:00.000Z</td><td>82.0</td><td>0</td></tr><tr><td>CUST027</td><td>Customer_27</td><td>Madhapur</td><td>REST006</td><td>Restaurant_REST006</td><td>Hitech City</td><td>DP02</td><td>Partner_DP02</td><td>Ameerpet</td><td>718.81</td><td>2025-09-01T15:28:00.000Z</td><td>2025-09-01T16:27:00.000Z</td><td>59.0</td><td>1</td></tr><tr><td>CUST028</td><td>Customer_28</td><td>Kukatpally</td><td>REST009</td><td>Restaurant_REST009</td><td>Begumpet</td><td>DP02</td><td>Partner_DP02</td><td>Secunderabad</td><td>160.43</td><td>2025-09-01T13:20:00.000Z</td><td>2025-09-01T13:50:00.000Z</td><td>30.0</td><td>0</td></tr><tr><td>CUST029</td><td>Customer_29</td><td>Gachibowli</td><td>REST005</td><td>Restaurant_REST005</td><td>Hitech City</td><td>DP05</td><td>Partner_DP05</td><td>Ameerpet</td><td>453.8</td><td>2025-09-01T09:45:00.000Z</td><td>2025-09-01T11:00:00.000Z</td><td>75.0</td><td>1</td></tr><tr><td>CUST030</td><td>Customer_30</td><td>Madhapur</td><td>REST009</td><td>Restaurant_REST009</td><td>Jubilee Hills</td><td>DP05</td><td>Partner_DP05</td><td>Secunderabad</td><td>764.32</td><td>2025-09-01T19:07:00.000Z</td><td>2025-09-01T19:52:00.000Z</td><td>45.0</td><td>0</td></tr><tr><td>CUST031</td><td>Customer_31</td><td>Gachibowli</td><td>REST002</td><td>Restaurant_REST002</td><td>Jubilee Hills</td><td>DP01</td><td>Partner_DP01</td><td>Ameerpet</td><td>768.11</td><td>2025-09-01T15:58:00.000Z</td><td>2025-09-01T16:45:00.000Z</td><td>47.0</td><td>0</td></tr><tr><td>CUST032</td><td>Customer_32</td><td>Madhapur</td><td>REST003</td><td>Restaurant_REST003</td><td>Jubilee Hills</td><td>DP02</td><td>Partner_DP02</td><td>Miyapur</td><td>501.45</td><td>2025-09-01T18:27:00.000Z</td><td>2025-09-01T19:45:00.000Z</td><td>78.0</td><td>0</td></tr><tr><td>CUST033</td><td>Customer_33</td><td>Gachibowli</td><td>REST009</td><td>Restaurant_REST009</td><td>Begumpet</td><td>DP01</td><td>Partner_DP01</td><td>Miyapur</td><td>242.75</td><td>2025-09-01T12:55:00.000Z</td><td>2025-09-01T14:14:00.000Z</td><td>79.0</td><td>1</td></tr><tr><td>CUST034</td><td>Customer_34</td><td>Gachibowli</td><td>REST010</td><td>Restaurant_REST010</td><td>Hitech City</td><td>DP05</td><td>Partner_DP05</td><td>Secunderabad</td><td>376.39</td><td>2025-09-01T12:29:00.000Z</td><td>2025-09-01T12:49:00.000Z</td><td>20.0</td><td>0</td></tr><tr><td>CUST035</td><td>Customer_35</td><td>Kukatpally</td><td>REST005</td><td>Restaurant_REST005</td><td>Begumpet</td><td>DP05</td><td>Partner_DP05</td><td>Ameerpet</td><td>726.39</td><td>2025-09-01T08:22:00.000Z</td><td>2025-09-01T08:53:00.000Z</td><td>31.0</td><td>1</td></tr><tr><td>CUST036</td><td>Customer_36</td><td>Gachibowli</td><td>REST008</td><td>Restaurant_REST008</td><td>Jubilee Hills</td><td>DP04</td><td>Partner_DP04</td><td>Secunderabad</td><td>504.77</td><td>2025-09-01T10:44:00.000Z</td><td>2025-09-01T11:39:00.000Z</td><td>55.0</td><td>1</td></tr><tr><td>CUST037</td><td>Customer_37</td><td>Gachibowli</td><td>REST001</td><td>Restaurant_REST001</td><td>Jubilee Hills</td><td>DP03</td><td>Partner_DP03</td><td>Miyapur</td><td>219.33</td><td>2025-09-01T08:42:00.000Z</td><td>2025-09-01T09:33:00.000Z</td><td>51.0</td><td>1</td></tr><tr><td>CUST038</td><td>Customer_38</td><td>Madhapur</td><td>REST010</td><td>Restaurant_REST010</td><td>Begumpet</td><td>DP05</td><td>Partner_DP05</td><td>Ameerpet</td><td>425.28</td><td>2025-09-01T23:30:00.000Z</td><td>2025-09-02T00:03:00.000Z</td><td>33.0</td><td>0</td></tr><tr><td>CUST039</td><td>Customer_39</td><td>Banjara Hills</td><td>REST003</td><td>Restaurant_REST003</td><td>Jubilee Hills</td><td>DP04</td><td>Partner_DP04</td><td>Secunderabad</td><td>397.49</td><td>2025-09-01T15:18:00.000Z</td><td>2025-09-01T15:53:00.000Z</td><td>35.0</td><td>0</td></tr><tr><td>CUST040</td><td>Customer_40</td><td>Gachibowli</td><td>REST009</td><td>Restaurant_REST009</td><td>Begumpet</td><td>DP02</td><td>Partner_DP02</td><td>Miyapur</td><td>717.68</td><td>2025-09-01T09:42:00.000Z</td><td>2025-09-01T10:37:00.000Z</td><td>55.0</td><td>0</td></tr><tr><td>CUST041</td><td>Customer_41</td><td>Madhapur</td><td>REST005</td><td>Restaurant_REST005</td><td>Jubilee Hills</td><td>DP04</td><td>Partner_DP04</td><td>Ameerpet</td><td>702.66</td><td>2025-09-01T08:48:00.000Z</td><td>2025-09-01T10:12:00.000Z</td><td>84.0</td><td>0</td></tr><tr><td>CUST042</td><td>Customer_42</td><td>Madhapur</td><td>REST004</td><td>Restaurant_REST004</td><td>Begumpet</td><td>DP02</td><td>Partner_DP02</td><td>Secunderabad</td><td>340.16</td><td>2025-09-01T19:51:00.000Z</td><td>2025-09-01T20:45:00.000Z</td><td>54.0</td><td>0</td></tr><tr><td>CUST043</td><td>Customer_43</td><td>Madhapur</td><td>REST003</td><td>Restaurant_REST003</td><td>Hitech City</td><td>DP03</td><td>Partner_DP03</td><td>Ameerpet</td><td>195.57</td><td>2025-09-01T18:57:00.000Z</td><td>2025-09-01T19:23:00.000Z</td><td>26.0</td><td>1</td></tr><tr><td>CUST044</td><td>Customer_44</td><td>Banjara Hills</td><td>REST003</td><td>Restaurant_REST003</td><td>Jubilee Hills</td><td>DP02</td><td>Partner_DP02</td><td>Miyapur</td><td>184.88</td><td>2025-09-01T21:01:00.000Z</td><td>2025-09-01T22:29:00.000Z</td><td>88.0</td><td>0</td></tr><tr><td>CUST045</td><td>Customer_45</td><td>Banjara Hills</td><td>REST004</td><td>Restaurant_REST004</td><td>Begumpet</td><td>DP05</td><td>Partner_DP05</td><td>Ameerpet</td><td>480.68</td><td>2025-09-01T10:24:00.000Z</td><td>2025-09-01T11:42:00.000Z</td><td>78.0</td><td>1</td></tr><tr><td>CUST046</td><td>Customer_46</td><td>Kukatpally</td><td>REST002</td><td>Restaurant_REST002</td><td>Hitech City</td><td>DP04</td><td>Partner_DP04</td><td>Miyapur</td><td>785.78</td><td>2025-09-01T23:56:00.000Z</td><td>2025-09-02T01:20:00.000Z</td><td>84.0</td><td>0</td></tr><tr><td>CUST047</td><td>Customer_47</td><td>Gachibowli</td><td>REST009</td><td>Restaurant_REST009</td><td>Begumpet</td><td>DP04</td><td>Partner_DP04</td><td>Ameerpet</td><td>210.24</td><td>2025-09-01T13:15:00.000Z</td><td>2025-09-01T14:44:00.000Z</td><td>89.0</td><td>0</td></tr><tr><td>CUST048</td><td>Customer_48</td><td>Gachibowli</td><td>REST007</td><td>Restaurant_REST007</td><td>Jubilee Hills</td><td>DP02</td><td>Partner_DP02</td><td>Secunderabad</td><td>355.11</td><td>2025-09-01T15:56:00.000Z</td><td>2025-09-01T17:08:00.000Z</td><td>72.0</td><td>0</td></tr><tr><td>CUST049</td><td>Customer_49</td><td>Gachibowli</td><td>REST001</td><td>Restaurant_REST001</td><td>Begumpet</td><td>DP03</td><td>Partner_DP03</td><td>Miyapur</td><td>476.34</td><td>2025-09-01T22:59:00.000Z</td><td>2025-09-02T00:14:00.000Z</td><td>75.0</td><td>0</td></tr><tr><td>CUST050</td><td>Customer_50</td><td>Gachibowli</td><td>REST005</td><td>Restaurant_REST005</td><td>Jubilee Hills</td><td>DP01</td><td>Partner_DP01</td><td>Ameerpet</td><td>310.89</td><td>2025-09-01T14:06:00.000Z</td><td>2025-09-01T14:50:00.000Z</td><td>44.0</td><td>1</td></tr><tr><td>CUST051</td><td>Customer_51</td><td>Madhapur</td><td>REST010</td><td>Restaurant_REST010</td><td>Begumpet</td><td>DP05</td><td>Partner_DP05</td><td>Ameerpet</td><td>257.67</td><td>2025-09-01T11:29:00.000Z</td><td>2025-09-01T12:04:00.000Z</td><td>35.0</td><td>1</td></tr><tr><td>CUST052</td><td>Customer_52</td><td>Madhapur</td><td>REST008</td><td>Restaurant_REST008</td><td>Jubilee Hills</td><td>DP05</td><td>Partner_DP05</td><td>Ameerpet</td><td>389.48</td><td>2025-09-01T12:18:00.000Z</td><td>2025-09-01T13:18:00.000Z</td><td>60.0</td><td>1</td></tr><tr><td>CUST053</td><td>Customer_53</td><td>Gachibowli</td><td>REST006</td><td>Restaurant_REST006</td><td>Hitech City</td><td>DP03</td><td>Partner_DP03</td><td>Miyapur</td><td>638.54</td><td>2025-09-01T12:56:00.000Z</td><td>2025-09-01T13:17:00.000Z</td><td>21.0</td><td>1</td></tr><tr><td>CUST054</td><td>Customer_54</td><td>Kukatpally</td><td>REST005</td><td>Restaurant_REST005</td><td>Hitech City</td><td>DP05</td><td>Partner_DP05</td><td>Ameerpet</td><td>537.49</td><td>2025-09-01T08:56:00.000Z</td><td>2025-09-01T10:04:00.000Z</td><td>68.0</td><td>1</td></tr><tr><td>CUST055</td><td>Customer_55</td><td>Gachibowli</td><td>REST010</td><td>Restaurant_REST010</td><td>Begumpet</td><td>DP05</td><td>Partner_DP05</td><td>Secunderabad</td><td>561.47</td><td>2025-09-01T10:51:00.000Z</td><td>2025-09-01T12:05:00.000Z</td><td>74.0</td><td>0</td></tr><tr><td>CUST056</td><td>Customer_56</td><td>Gachibowli</td><td>REST003</td><td>Restaurant_REST003</td><td>Jubilee Hills</td><td>DP02</td><td>Partner_DP02</td><td>Ameerpet</td><td>379.73</td><td>2025-09-01T10:28:00.000Z</td><td>2025-09-01T11:05:00.000Z</td><td>37.0</td><td>0</td></tr><tr><td>CUST057</td><td>Customer_57</td><td>Gachibowli</td><td>REST009</td><td>Restaurant_REST009</td><td>Begumpet</td><td>DP05</td><td>Partner_DP05</td><td>Miyapur</td><td>679.64</td><td>2025-09-01T14:30:00.000Z</td><td>2025-09-01T15:03:00.000Z</td><td>33.0</td><td>1</td></tr><tr><td>CUST058</td><td>Customer_58</td><td>Gachibowli</td><td>REST008</td><td>Restaurant_REST008</td><td>Begumpet</td><td>DP05</td><td>Partner_DP05</td><td>Ameerpet</td><td>620.48</td><td>2025-09-01T16:48:00.000Z</td><td>2025-09-01T18:07:00.000Z</td><td>79.0</td><td>0</td></tr><tr><td>CUST059</td><td>Customer_59</td><td>Banjara Hills</td><td>REST003</td><td>Restaurant_REST003</td><td>Hitech City</td><td>DP05</td><td>Partner_DP05</td><td>Miyapur</td><td>263.96</td><td>2025-09-01T22:22:00.000Z</td><td>2025-09-01T23:43:00.000Z</td><td>81.0</td><td>0</td></tr><tr><td>CUST060</td><td>Customer_60</td><td>Banjara Hills</td><td>REST005</td><td>Restaurant_REST005</td><td>Hitech City</td><td>DP04</td><td>Partner_DP04</td><td>Secunderabad</td><td>791.13</td><td>2025-09-01T17:48:00.000Z</td><td>2025-09-01T18:27:00.000Z</td><td>39.0</td><td>1</td></tr><tr><td>CUST061</td><td>Customer_61</td><td>Kukatpally</td><td>REST005</td><td>Restaurant_REST005</td><td>Hitech City</td><td>DP04</td><td>Partner_DP04</td><td>Miyapur</td><td>312.93</td><td>2025-09-01T22:47:00.000Z</td><td>2025-09-02T00:06:00.000Z</td><td>79.0</td><td>0</td></tr><tr><td>CUST062</td><td>Customer_62</td><td>Gachibowli</td><td>REST007</td><td>Restaurant_REST007</td><td>Hitech City</td><td>DP04</td><td>Partner_DP04</td><td>Ameerpet</td><td>621.62</td><td>2025-09-01T17:46:00.000Z</td><td>2025-09-01T18:52:00.000Z</td><td>66.0</td><td>0</td></tr><tr><td>CUST063</td><td>Customer_63</td><td>Madhapur</td><td>REST009</td><td>Restaurant_REST009</td><td>Hitech City</td><td>DP03</td><td>Partner_DP03</td><td>Secunderabad</td><td>718.98</td><td>2025-09-01T14:19:00.000Z</td><td>2025-09-01T15:10:00.000Z</td><td>51.0</td><td>0</td></tr><tr><td>CUST064</td><td>Customer_64</td><td>Madhapur</td><td>REST006</td><td>Restaurant_REST006</td><td>Hitech City</td><td>DP02</td><td>Partner_DP02</td><td>Ameerpet</td><td>356.12</td><td>2025-09-01T12:12:00.000Z</td><td>2025-09-01T13:22:00.000Z</td><td>70.0</td><td>1</td></tr><tr><td>CUST065</td><td>Customer_65</td><td>Banjara Hills</td><td>REST003</td><td>Restaurant_REST003</td><td>Jubilee Hills</td><td>DP05</td><td>Partner_DP05</td><td>Ameerpet</td><td>500.93</td><td>2025-09-01T23:25:00.000Z</td><td>2025-09-02T00:46:00.000Z</td><td>81.0</td><td>0</td></tr><tr><td>CUST066</td><td>Customer_66</td><td>Kukatpally</td><td>REST003</td><td>Restaurant_REST003</td><td>Begumpet</td><td>DP04</td><td>Partner_DP04</td><td>Miyapur</td><td>166.9</td><td>2025-09-01T16:01:00.000Z</td><td>2025-09-01T17:13:00.000Z</td><td>72.0</td><td>0</td></tr><tr><td>CUST067</td><td>Customer_67</td><td>Gachibowli</td><td>REST003</td><td>Restaurant_REST003</td><td>Hitech City</td><td>DP05</td><td>Partner_DP05</td><td>Secunderabad</td><td>218.07</td><td>2025-09-01T14:14:00.000Z</td><td>2025-09-01T14:59:00.000Z</td><td>45.0</td><td>0</td></tr><tr><td>CUST068</td><td>Customer_68</td><td>Gachibowli</td><td>REST001</td><td>Restaurant_REST001</td><td>Hitech City</td><td>DP03</td><td>Partner_DP03</td><td>Secunderabad</td><td>431.48</td><td>2025-09-01T19:38:00.000Z</td><td>2025-09-01T20:37:00.000Z</td><td>59.0</td><td>0</td></tr><tr><td>CUST069</td><td>Customer_69</td><td>Madhapur</td><td>REST008</td><td>Restaurant_REST008</td><td>Begumpet</td><td>DP05</td><td>Partner_DP05</td><td>Miyapur</td><td>744.85</td><td>2025-09-01T14:52:00.000Z</td><td>2025-09-01T15:28:00.000Z</td><td>36.0</td><td>0</td></tr><tr><td>CUST070</td><td>Customer_70</td><td>Gachibowli</td><td>REST001</td><td>Restaurant_REST001</td><td>Hitech City</td><td>DP03</td><td>Partner_DP03</td><td>Ameerpet</td><td>690.72</td><td>2025-09-01T22:16:00.000Z</td><td>2025-09-01T23:42:00.000Z</td><td>86.0</td><td>0</td></tr><tr><td>CUST071</td><td>Customer_71</td><td>Banjara Hills</td><td>REST003</td><td>Restaurant_REST003</td><td>Begumpet</td><td>DP02</td><td>Partner_DP02</td><td>Secunderabad</td><td>376.42</td><td>2025-09-01T11:54:00.000Z</td><td>2025-09-01T13:05:00.000Z</td><td>71.0</td><td>0</td></tr><tr><td>CUST072</td><td>Customer_72</td><td>Gachibowli</td><td>REST010</td><td>Restaurant_REST010</td><td>Begumpet</td><td>DP05</td><td>Partner_DP05</td><td>Miyapur</td><td>639.32</td><td>2025-09-01T18:38:00.000Z</td><td>2025-09-01T19:45:00.000Z</td><td>67.0</td><td>1</td></tr><tr><td>CUST073</td><td>Customer_73</td><td>Gachibowli</td><td>REST007</td><td>Restaurant_REST007</td><td>Jubilee Hills</td><td>DP02</td><td>Partner_DP02</td><td>Ameerpet</td><td>416.4</td><td>2025-09-01T14:12:00.000Z</td><td>2025-09-01T15:11:00.000Z</td><td>59.0</td><td>0</td></tr><tr><td>CUST074</td><td>Customer_74</td><td>Gachibowli</td><td>REST003</td><td>Restaurant_REST003</td><td>Jubilee Hills</td><td>DP01</td><td>Partner_DP01</td><td>Secunderabad</td><td>450.56</td><td>2025-09-01T21:27:00.000Z</td><td>2025-09-01T21:53:00.000Z</td><td>26.0</td><td>0</td></tr><tr><td>CUST075</td><td>Customer_75</td><td>Kukatpally</td><td>REST006</td><td>Restaurant_REST006</td><td>Jubilee Hills</td><td>DP05</td><td>Partner_DP05</td><td>Secunderabad</td><td>658.9</td><td>2025-09-01T08:30:00.000Z</td><td>2025-09-01T09:18:00.000Z</td><td>48.0</td><td>1</td></tr><tr><td>CUST076</td><td>Customer_76</td><td>Banjara Hills</td><td>REST010</td><td>Restaurant_REST010</td><td>Hitech City</td><td>DP03</td><td>Partner_DP03</td><td>Miyapur</td><td>567.52</td><td>2025-09-01T10:11:00.000Z</td><td>2025-09-01T11:28:00.000Z</td><td>77.0</td><td>1</td></tr><tr><td>CUST077</td><td>Customer_77</td><td>Gachibowli</td><td>REST002</td><td>Restaurant_REST002</td><td>Begumpet</td><td>DP04</td><td>Partner_DP04</td><td>Secunderabad</td><td>588.14</td><td>2025-09-01T21:42:00.000Z</td><td>2025-09-01T22:31:00.000Z</td><td>49.0</td><td>0</td></tr><tr><td>CUST078</td><td>Customer_78</td><td>Gachibowli</td><td>REST004</td><td>Restaurant_REST004</td><td>Hitech City</td><td>DP02</td><td>Partner_DP02</td><td>Secunderabad</td><td>706.62</td><td>2025-09-01T08:56:00.000Z</td><td>2025-09-01T09:29:00.000Z</td><td>33.0</td><td>0</td></tr><tr><td>CUST079</td><td>Customer_79</td><td>Kukatpally</td><td>REST001</td><td>Restaurant_REST001</td><td>Hitech City</td><td>DP03</td><td>Partner_DP03</td><td>Ameerpet</td><td>471.97</td><td>2025-09-01T18:12:00.000Z</td><td>2025-09-01T18:51:00.000Z</td><td>39.0</td><td>0</td></tr><tr><td>CUST080</td><td>Customer_80</td><td>Kukatpally</td><td>REST002</td><td>Restaurant_REST002</td><td>Begumpet</td><td>DP02</td><td>Partner_DP02</td><td>Secunderabad</td><td>460.73</td><td>2025-09-01T21:36:00.000Z</td><td>2025-09-01T22:20:00.000Z</td><td>44.0</td><td>0</td></tr><tr><td>CUST081</td><td>Customer_81</td><td>Madhapur</td><td>REST007</td><td>Restaurant_REST007</td><td>Jubilee Hills</td><td>DP03</td><td>Partner_DP03</td><td>Miyapur</td><td>150.39</td><td>2025-09-01T08:14:00.000Z</td><td>2025-09-01T09:19:00.000Z</td><td>65.0</td><td>0</td></tr><tr><td>CUST082</td><td>Customer_82</td><td>Kukatpally</td><td>REST006</td><td>Restaurant_REST006</td><td>Begumpet</td><td>DP05</td><td>Partner_DP05</td><td>Secunderabad</td><td>338.12</td><td>2025-09-01T12:55:00.000Z</td><td>2025-09-01T14:23:00.000Z</td><td>88.0</td><td>0</td></tr><tr><td>CUST083</td><td>Customer_83</td><td>Banjara Hills</td><td>REST002</td><td>Restaurant_REST002</td><td>Begumpet</td><td>DP03</td><td>Partner_DP03</td><td>Miyapur</td><td>701.02</td><td>2025-09-01T14:45:00.000Z</td><td>2025-09-01T16:14:00.000Z</td><td>89.0</td><td>0</td></tr><tr><td>CUST084</td><td>Customer_84</td><td>Kukatpally</td><td>REST009</td><td>Restaurant_REST009</td><td>Jubilee Hills</td><td>DP03</td><td>Partner_DP03</td><td>Ameerpet</td><td>738.29</td><td>2025-09-01T12:17:00.000Z</td><td>2025-09-01T13:29:00.000Z</td><td>72.0</td><td>0</td></tr><tr><td>CUST085</td><td>Customer_85</td><td>Madhapur</td><td>REST003</td><td>Restaurant_REST003</td><td>Hitech City</td><td>DP04</td><td>Partner_DP04</td><td>Ameerpet</td><td>739.84</td><td>2025-09-01T18:24:00.000Z</td><td>2025-09-01T19:20:00.000Z</td><td>56.0</td><td>0</td></tr><tr><td>CUST086</td><td>Customer_86</td><td>Gachibowli</td><td>REST003</td><td>Restaurant_REST003</td><td>Begumpet</td><td>DP05</td><td>Partner_DP05</td><td>Secunderabad</td><td>747.42</td><td>2025-09-01T08:01:00.000Z</td><td>2025-09-01T08:39:00.000Z</td><td>38.0</td><td>0</td></tr><tr><td>CUST087</td><td>Customer_87</td><td>Banjara Hills</td><td>REST004</td><td>Restaurant_REST004</td><td>Hitech City</td><td>DP04</td><td>Partner_DP04</td><td>Miyapur</td><td>509.13</td><td>2025-09-01T09:08:00.000Z</td><td>2025-09-01T09:46:00.000Z</td><td>38.0</td><td>0</td></tr><tr><td>CUST088</td><td>Customer_88</td><td>Madhapur</td><td>REST010</td><td>Restaurant_REST010</td><td>Jubilee Hills</td><td>DP02</td><td>Partner_DP02</td><td>Ameerpet</td><td>228.98</td><td>2025-09-01T22:07:00.000Z</td><td>2025-09-01T23:07:00.000Z</td><td>60.0</td><td>0</td></tr><tr><td>CUST089</td><td>Customer_89</td><td>Gachibowli</td><td>REST010</td><td>Restaurant_REST010</td><td>Begumpet</td><td>DP03</td><td>Partner_DP03</td><td>Secunderabad</td><td>513.27</td><td>2025-09-01T15:26:00.000Z</td><td>2025-09-01T15:59:00.000Z</td><td>33.0</td><td>0</td></tr><tr><td>CUST090</td><td>Customer_90</td><td>Madhapur</td><td>REST007</td><td>Restaurant_REST007</td><td>Jubilee Hills</td><td>DP04</td><td>Partner_DP04</td><td>Secunderabad</td><td>484.05</td><td>2025-09-01T15:16:00.000Z</td><td>2025-09-01T16:02:00.000Z</td><td>46.0</td><td>0</td></tr><tr><td>CUST091</td><td>Customer_91</td><td>Kukatpally</td><td>REST004</td><td>Restaurant_REST004</td><td>Hitech City</td><td>DP01</td><td>Partner_DP01</td><td>Ameerpet</td><td>152.9</td><td>2025-09-01T23:57:00.000Z</td><td>2025-09-02T01:16:00.000Z</td><td>79.0</td><td>0</td></tr><tr><td>CUST092</td><td>Customer_92</td><td>Banjara Hills</td><td>REST007</td><td>Restaurant_REST007</td><td>Hitech City</td><td>DP05</td><td>Partner_DP05</td><td>Ameerpet</td><td>552.14</td><td>2025-09-01T13:40:00.000Z</td><td>2025-09-01T14:12:00.000Z</td><td>32.0</td><td>0</td></tr><tr><td>CUST093</td><td>Customer_93</td><td>Kukatpally</td><td>REST003</td><td>Restaurant_REST003</td><td>Hitech City</td><td>DP04</td><td>Partner_DP04</td><td>Miyapur</td><td>316.41</td><td>2025-09-01T11:30:00.000Z</td><td>2025-09-01T12:34:00.000Z</td><td>64.0</td><td>0</td></tr><tr><td>CUST094</td><td>Customer_94</td><td>Gachibowli</td><td>REST002</td><td>Restaurant_REST002</td><td>Begumpet</td><td>DP05</td><td>Partner_DP05</td><td>Secunderabad</td><td>754.17</td><td>2025-09-01T23:32:00.000Z</td><td>2025-09-02T00:35:00.000Z</td><td>63.0</td><td>0</td></tr><tr><td>CUST095</td><td>Customer_95</td><td>Kukatpally</td><td>REST003</td><td>Restaurant_REST003</td><td>Jubilee Hills</td><td>DP05</td><td>Partner_DP05</td><td>Ameerpet</td><td>214.81</td><td>2025-09-01T09:47:00.000Z</td><td>2025-09-01T10:39:00.000Z</td><td>52.0</td><td>1</td></tr><tr><td>CUST096</td><td>Customer_96</td><td>Banjara Hills</td><td>REST002</td><td>Restaurant_REST002</td><td>Begumpet</td><td>DP04</td><td>Partner_DP04</td><td>Ameerpet</td><td>329.11</td><td>2025-09-01T11:45:00.000Z</td><td>2025-09-01T12:09:00.000Z</td><td>24.0</td><td>1</td></tr><tr><td>CUST097</td><td>Customer_97</td><td>Kukatpally</td><td>REST009</td><td>Restaurant_REST009</td><td>Hitech City</td><td>DP01</td><td>Partner_DP01</td><td>Secunderabad</td><td>397.35</td><td>2025-09-01T23:43:00.000Z</td><td>2025-09-02T00:37:00.000Z</td><td>54.0</td><td>0</td></tr><tr><td>CUST098</td><td>Customer_98</td><td>Gachibowli</td><td>REST005</td><td>Restaurant_REST005</td><td>Hitech City</td><td>DP04</td><td>Partner_DP04</td><td>Miyapur</td><td>536.93</td><td>2025-09-01T20:51:00.000Z</td><td>2025-09-01T22:19:00.000Z</td><td>88.0</td><td>1</td></tr><tr><td>CUST099</td><td>Customer_99</td><td>Banjara Hills</td><td>REST008</td><td>Restaurant_REST008</td><td>Begumpet</td><td>DP03</td><td>Partner_DP03</td><td>Miyapur</td><td>604.62</td><td>2025-09-01T21:59:00.000Z</td><td>2025-09-01T23:03:00.000Z</td><td>64.0</td><td>0</td></tr><tr><td>CUST100</td><td>Customer_100</td><td>Madhapur</td><td>REST007</td><td>Restaurant_REST007</td><td>Begumpet</td><td>DP01</td><td>Partner_DP01</td><td>Miyapur</td><td>196.17</td><td>2025-09-01T11:31:00.000Z</td><td>2025-09-01T12:04:00.000Z</td><td>33.0</td><td>0</td></tr></tbody></table></div>"
      ]
     },
     "metadata": {
      "application/vnd.databricks.v1+output": {
       "addedWidgets": {},
       "aggData": [],
       "aggError": "",
       "aggOverflow": false,
       "aggSchema": [],
       "aggSeriesLimitReached": false,
       "aggType": "",
       "arguments": {},
       "columnCustomDisplayInfos": {},
       "data": [
        [
         "CUST001",
         "Customer_1",
         "Madhapur",
         "REST007",
         "Restaurant_REST007",
         "Hitech City",
         "DP02",
         "Partner_DP02",
         "Miyapur",
         313.56,
         "2025-09-01T12:01:00.000Z",
         "2025-09-01T12:38:00.000Z",
         37.0,
         0
        ],
        [
         "CUST002",
         "Customer_2",
         "Kukatpally",
         "REST009",
         "Restaurant_REST009",
         "Jubilee Hills",
         "DP03",
         "Partner_DP03",
         "Miyapur",
         490.63,
         "2025-09-01T10:24:00.000Z",
         "2025-09-01T11:17:00.000Z",
         53.0,
         0
        ],
        [
         "CUST003",
         "Customer_3",
         "Kukatpally",
         "REST003",
         "Restaurant_REST003",
         "Begumpet",
         "DP05",
         "Partner_DP05",
         "Miyapur",
         504.77,
         "2025-09-01T18:03:00.000Z",
         "2025-09-01T19:26:00.000Z",
         83.0,
         0
        ],
        [
         "CUST004",
         "Customer_4",
         "Gachibowli",
         "REST005",
         "Restaurant_REST005",
         "Begumpet",
         "DP03",
         "Partner_DP03",
         "Secunderabad",
         429.83,
         "2025-09-01T14:47:00.000Z",
         "2025-09-01T16:08:00.000Z",
         81.0,
         0
        ],
        [
         "CUST005",
         "Customer_5",
         "Banjara Hills",
         "REST001",
         "Restaurant_REST001",
         "Hitech City",
         "DP04",
         "Partner_DP04",
         "Miyapur",
         759.89,
         "2025-09-01T13:34:00.000Z",
         "2025-09-01T14:13:00.000Z",
         39.0,
         1
        ],
        [
         "CUST006",
         "Customer_6",
         "Kukatpally",
         "REST006",
         "Restaurant_REST006",
         "Jubilee Hills",
         "DP01",
         "Partner_DP01",
         "Miyapur",
         290.95,
         "2025-09-01T12:53:00.000Z",
         "2025-09-01T14:17:00.000Z",
         84.0,
         0
        ],
        [
         "CUST007",
         "Customer_7",
         "Gachibowli",
         "REST002",
         "Restaurant_REST002",
         "Jubilee Hills",
         "DP01",
         "Partner_DP01",
         "Miyapur",
         366.78,
         "2025-09-01T14:09:00.000Z",
         "2025-09-01T15:18:00.000Z",
         69.0,
         0
        ],
        [
         "CUST008",
         "Customer_8",
         "Kukatpally",
         "REST007",
         "Restaurant_REST007",
         "Begumpet",
         "DP04",
         "Partner_DP04",
         "Ameerpet",
         648.16,
         "2025-09-01T12:08:00.000Z",
         "2025-09-01T13:11:00.000Z",
         63.0,
         0
        ],
        [
         "CUST009",
         "Customer_9",
         "Kukatpally",
         "REST007",
         "Restaurant_REST007",
         "Hitech City",
         "DP04",
         "Partner_DP04",
         "Miyapur",
         644.63,
         "2025-09-01T15:04:00.000Z",
         "2025-09-01T16:31:00.000Z",
         87.0,
         0
        ],
        [
         "CUST010",
         "Customer_10",
         "Madhapur",
         "REST007",
         "Restaurant_REST007",
         "Hitech City",
         "DP03",
         "Partner_DP03",
         "Miyapur",
         585.56,
         "2025-09-01T14:24:00.000Z",
         "2025-09-01T15:05:00.000Z",
         41.0,
         0
        ],
        [
         "CUST011",
         "Customer_11",
         "Kukatpally",
         "REST008",
         "Restaurant_REST008",
         "Jubilee Hills",
         "DP01",
         "Partner_DP01",
         "Ameerpet",
         495.37,
         "2025-09-01T09:05:00.000Z",
         "2025-09-01T10:13:00.000Z",
         68.0,
         1
        ],
        [
         "CUST012",
         "Customer_12",
         "Madhapur",
         "REST007",
         "Restaurant_REST007",
         "Jubilee Hills",
         "DP04",
         "Partner_DP04",
         "Miyapur",
         773.14,
         "2025-09-01T13:10:00.000Z",
         "2025-09-01T14:38:00.000Z",
         88.0,
         0
        ],
        [
         "CUST013",
         "Customer_13",
         "Kukatpally",
         "REST008",
         "Restaurant_REST008",
         "Begumpet",
         "DP05",
         "Partner_DP05",
         "Miyapur",
         733.1,
         "2025-09-01T11:19:00.000Z",
         "2025-09-01T11:51:00.000Z",
         32.0,
         0
        ],
        [
         "CUST014",
         "Customer_14",
         "Kukatpally",
         "REST003",
         "Restaurant_REST003",
         "Begumpet",
         "DP04",
         "Partner_DP04",
         "Miyapur",
         250.74,
         "2025-09-01T21:29:00.000Z",
         "2025-09-01T22:17:00.000Z",
         48.0,
         0
        ],
        [
         "CUST015",
         "Customer_15",
         "Gachibowli",
         "REST006",
         "Restaurant_REST006",
         "Hitech City",
         "DP04",
         "Partner_DP04",
         "Ameerpet",
         386.72,
         "2025-09-01T10:52:00.000Z",
         "2025-09-01T11:54:00.000Z",
         62.0,
         1
        ],
        [
         "CUST016",
         "Customer_16",
         "Kukatpally",
         "REST004",
         "Restaurant_REST004",
         "Begumpet",
         "DP03",
         "Partner_DP03",
         "Secunderabad",
         718.91,
         "2025-09-01T17:37:00.000Z",
         "2025-09-01T18:54:00.000Z",
         77.0,
         1
        ],
        [
         "CUST017",
         "Customer_17",
         "Gachibowli",
         "REST007",
         "Restaurant_REST007",
         "Jubilee Hills",
         "DP03",
         "Partner_DP03",
         "Ameerpet",
         785.17,
         "2025-09-01T21:43:00.000Z",
         "2025-09-01T23:06:00.000Z",
         83.0,
         0
        ],
        [
         "CUST018",
         "Customer_18",
         "Banjara Hills",
         "REST006",
         "Restaurant_REST006",
         "Begumpet",
         "DP05",
         "Partner_DP05",
         "Secunderabad",
         409.35,
         "2025-09-01T15:50:00.000Z",
         "2025-09-01T17:20:00.000Z",
         90.0,
         1
        ],
        [
         "CUST019",
         "Customer_19",
         "Madhapur",
         "REST004",
         "Restaurant_REST004",
         "Hitech City",
         "DP04",
         "Partner_DP04",
         "Secunderabad",
         387.43,
         "2025-09-01T09:25:00.000Z",
         "2025-09-01T10:25:00.000Z",
         60.0,
         0
        ],
        [
         "CUST020",
         "Customer_20",
         "Gachibowli",
         "REST009",
         "Restaurant_REST009",
         "Jubilee Hills",
         "DP03",
         "Partner_DP03",
         "Miyapur",
         463.24,
         "2025-09-01T22:41:00.000Z",
         "2025-09-01T23:47:00.000Z",
         66.0,
         1
        ],
        [
         "CUST021",
         "Customer_21",
         "Banjara Hills",
         "REST005",
         "Restaurant_REST005",
         "Jubilee Hills",
         "DP02",
         "Partner_DP02",
         "Ameerpet",
         632.4,
         "2025-09-01T21:19:00.000Z",
         "2025-09-01T22:22:00.000Z",
         63.0,
         0
        ],
        [
         "CUST022",
         "Customer_22",
         "Madhapur",
         "REST003",
         "Restaurant_REST003",
         "Jubilee Hills",
         "DP04",
         "Partner_DP04",
         "Miyapur",
         659.78,
         "2025-09-01T11:17:00.000Z",
         "2025-09-01T12:23:00.000Z",
         66.0,
         1
        ],
        [
         "CUST023",
         "Customer_23",
         "Madhapur",
         "REST010",
         "Restaurant_REST010",
         "Jubilee Hills",
         "DP05",
         "Partner_DP05",
         "Miyapur",
         205.42,
         "2025-09-01T21:08:00.000Z",
         "2025-09-01T21:40:00.000Z",
         32.0,
         0
        ],
        [
         "CUST024",
         "Customer_24",
         "Kukatpally",
         "REST003",
         "Restaurant_REST003",
         "Hitech City",
         "DP04",
         "Partner_DP04",
         "Ameerpet",
         298.61,
         "2025-09-01T15:44:00.000Z",
         "2025-09-01T16:33:00.000Z",
         49.0,
         0
        ],
        [
         "CUST025",
         "Customer_25",
         "Kukatpally",
         "REST006",
         "Restaurant_REST006",
         "Begumpet",
         "DP05",
         "Partner_DP05",
         "Miyapur",
         548.42,
         "2025-09-01T18:49:00.000Z",
         "2025-09-01T19:43:00.000Z",
         54.0,
         0
        ],
        [
         "CUST026",
         "Customer_26",
         "Madhapur",
         "REST005",
         "Restaurant_REST005",
         "Jubilee Hills",
         "DP05",
         "Partner_DP05",
         "Miyapur",
         305.29,
         "2025-09-01T23:03:00.000Z",
         "2025-09-02T00:25:00.000Z",
         82.0,
         0
        ],
        [
         "CUST027",
         "Customer_27",
         "Madhapur",
         "REST006",
         "Restaurant_REST006",
         "Hitech City",
         "DP02",
         "Partner_DP02",
         "Ameerpet",
         718.81,
         "2025-09-01T15:28:00.000Z",
         "2025-09-01T16:27:00.000Z",
         59.0,
         1
        ],
        [
         "CUST028",
         "Customer_28",
         "Kukatpally",
         "REST009",
         "Restaurant_REST009",
         "Begumpet",
         "DP02",
         "Partner_DP02",
         "Secunderabad",
         160.43,
         "2025-09-01T13:20:00.000Z",
         "2025-09-01T13:50:00.000Z",
         30.0,
         0
        ],
        [
         "CUST029",
         "Customer_29",
         "Gachibowli",
         "REST005",
         "Restaurant_REST005",
         "Hitech City",
         "DP05",
         "Partner_DP05",
         "Ameerpet",
         453.8,
         "2025-09-01T09:45:00.000Z",
         "2025-09-01T11:00:00.000Z",
         75.0,
         1
        ],
        [
         "CUST030",
         "Customer_30",
         "Madhapur",
         "REST009",
         "Restaurant_REST009",
         "Jubilee Hills",
         "DP05",
         "Partner_DP05",
         "Secunderabad",
         764.32,
         "2025-09-01T19:07:00.000Z",
         "2025-09-01T19:52:00.000Z",
         45.0,
         0
        ],
        [
         "CUST031",
         "Customer_31",
         "Gachibowli",
         "REST002",
         "Restaurant_REST002",
         "Jubilee Hills",
         "DP01",
         "Partner_DP01",
         "Ameerpet",
         768.11,
         "2025-09-01T15:58:00.000Z",
         "2025-09-01T16:45:00.000Z",
         47.0,
         0
        ],
        [
         "CUST032",
         "Customer_32",
         "Madhapur",
         "REST003",
         "Restaurant_REST003",
         "Jubilee Hills",
         "DP02",
         "Partner_DP02",
         "Miyapur",
         501.45,
         "2025-09-01T18:27:00.000Z",
         "2025-09-01T19:45:00.000Z",
         78.0,
         0
        ],
        [
         "CUST033",
         "Customer_33",
         "Gachibowli",
         "REST009",
         "Restaurant_REST009",
         "Begumpet",
         "DP01",
         "Partner_DP01",
         "Miyapur",
         242.75,
         "2025-09-01T12:55:00.000Z",
         "2025-09-01T14:14:00.000Z",
         79.0,
         1
        ],
        [
         "CUST034",
         "Customer_34",
         "Gachibowli",
         "REST010",
         "Restaurant_REST010",
         "Hitech City",
         "DP05",
         "Partner_DP05",
         "Secunderabad",
         376.39,
         "2025-09-01T12:29:00.000Z",
         "2025-09-01T12:49:00.000Z",
         20.0,
         0
        ],
        [
         "CUST035",
         "Customer_35",
         "Kukatpally",
         "REST005",
         "Restaurant_REST005",
         "Begumpet",
         "DP05",
         "Partner_DP05",
         "Ameerpet",
         726.39,
         "2025-09-01T08:22:00.000Z",
         "2025-09-01T08:53:00.000Z",
         31.0,
         1
        ],
        [
         "CUST036",
         "Customer_36",
         "Gachibowli",
         "REST008",
         "Restaurant_REST008",
         "Jubilee Hills",
         "DP04",
         "Partner_DP04",
         "Secunderabad",
         504.77,
         "2025-09-01T10:44:00.000Z",
         "2025-09-01T11:39:00.000Z",
         55.0,
         1
        ],
        [
         "CUST037",
         "Customer_37",
         "Gachibowli",
         "REST001",
         "Restaurant_REST001",
         "Jubilee Hills",
         "DP03",
         "Partner_DP03",
         "Miyapur",
         219.33,
         "2025-09-01T08:42:00.000Z",
         "2025-09-01T09:33:00.000Z",
         51.0,
         1
        ],
        [
         "CUST038",
         "Customer_38",
         "Madhapur",
         "REST010",
         "Restaurant_REST010",
         "Begumpet",
         "DP05",
         "Partner_DP05",
         "Ameerpet",
         425.28,
         "2025-09-01T23:30:00.000Z",
         "2025-09-02T00:03:00.000Z",
         33.0,
         0
        ],
        [
         "CUST039",
         "Customer_39",
         "Banjara Hills",
         "REST003",
         "Restaurant_REST003",
         "Jubilee Hills",
         "DP04",
         "Partner_DP04",
         "Secunderabad",
         397.49,
         "2025-09-01T15:18:00.000Z",
         "2025-09-01T15:53:00.000Z",
         35.0,
         0
        ],
        [
         "CUST040",
         "Customer_40",
         "Gachibowli",
         "REST009",
         "Restaurant_REST009",
         "Begumpet",
         "DP02",
         "Partner_DP02",
         "Miyapur",
         717.68,
         "2025-09-01T09:42:00.000Z",
         "2025-09-01T10:37:00.000Z",
         55.0,
         0
        ],
        [
         "CUST041",
         "Customer_41",
         "Madhapur",
         "REST005",
         "Restaurant_REST005",
         "Jubilee Hills",
         "DP04",
         "Partner_DP04",
         "Ameerpet",
         702.66,
         "2025-09-01T08:48:00.000Z",
         "2025-09-01T10:12:00.000Z",
         84.0,
         0
        ],
        [
         "CUST042",
         "Customer_42",
         "Madhapur",
         "REST004",
         "Restaurant_REST004",
         "Begumpet",
         "DP02",
         "Partner_DP02",
         "Secunderabad",
         340.16,
         "2025-09-01T19:51:00.000Z",
         "2025-09-01T20:45:00.000Z",
         54.0,
         0
        ],
        [
         "CUST043",
         "Customer_43",
         "Madhapur",
         "REST003",
         "Restaurant_REST003",
         "Hitech City",
         "DP03",
         "Partner_DP03",
         "Ameerpet",
         195.57,
         "2025-09-01T18:57:00.000Z",
         "2025-09-01T19:23:00.000Z",
         26.0,
         1
        ],
        [
         "CUST044",
         "Customer_44",
         "Banjara Hills",
         "REST003",
         "Restaurant_REST003",
         "Jubilee Hills",
         "DP02",
         "Partner_DP02",
         "Miyapur",
         184.88,
         "2025-09-01T21:01:00.000Z",
         "2025-09-01T22:29:00.000Z",
         88.0,
         0
        ],
        [
         "CUST045",
         "Customer_45",
         "Banjara Hills",
         "REST004",
         "Restaurant_REST004",
         "Begumpet",
         "DP05",
         "Partner_DP05",
         "Ameerpet",
         480.68,
         "2025-09-01T10:24:00.000Z",
         "2025-09-01T11:42:00.000Z",
         78.0,
         1
        ],
        [
         "CUST046",
         "Customer_46",
         "Kukatpally",
         "REST002",
         "Restaurant_REST002",
         "Hitech City",
         "DP04",
         "Partner_DP04",
         "Miyapur",
         785.78,
         "2025-09-01T23:56:00.000Z",
         "2025-09-02T01:20:00.000Z",
         84.0,
         0
        ],
        [
         "CUST047",
         "Customer_47",
         "Gachibowli",
         "REST009",
         "Restaurant_REST009",
         "Begumpet",
         "DP04",
         "Partner_DP04",
         "Ameerpet",
         210.24,
         "2025-09-01T13:15:00.000Z",
         "2025-09-01T14:44:00.000Z",
         89.0,
         0
        ],
        [
         "CUST048",
         "Customer_48",
         "Gachibowli",
         "REST007",
         "Restaurant_REST007",
         "Jubilee Hills",
         "DP02",
         "Partner_DP02",
         "Secunderabad",
         355.11,
         "2025-09-01T15:56:00.000Z",
         "2025-09-01T17:08:00.000Z",
         72.0,
         0
        ],
        [
         "CUST049",
         "Customer_49",
         "Gachibowli",
         "REST001",
         "Restaurant_REST001",
         "Begumpet",
         "DP03",
         "Partner_DP03",
         "Miyapur",
         476.34,
         "2025-09-01T22:59:00.000Z",
         "2025-09-02T00:14:00.000Z",
         75.0,
         0
        ],
        [
         "CUST050",
         "Customer_50",
         "Gachibowli",
         "REST005",
         "Restaurant_REST005",
         "Jubilee Hills",
         "DP01",
         "Partner_DP01",
         "Ameerpet",
         310.89,
         "2025-09-01T14:06:00.000Z",
         "2025-09-01T14:50:00.000Z",
         44.0,
         1
        ],
        [
         "CUST051",
         "Customer_51",
         "Madhapur",
         "REST010",
         "Restaurant_REST010",
         "Begumpet",
         "DP05",
         "Partner_DP05",
         "Ameerpet",
         257.67,
         "2025-09-01T11:29:00.000Z",
         "2025-09-01T12:04:00.000Z",
         35.0,
         1
        ],
        [
         "CUST052",
         "Customer_52",
         "Madhapur",
         "REST008",
         "Restaurant_REST008",
         "Jubilee Hills",
         "DP05",
         "Partner_DP05",
         "Ameerpet",
         389.48,
         "2025-09-01T12:18:00.000Z",
         "2025-09-01T13:18:00.000Z",
         60.0,
         1
        ],
        [
         "CUST053",
         "Customer_53",
         "Gachibowli",
         "REST006",
         "Restaurant_REST006",
         "Hitech City",
         "DP03",
         "Partner_DP03",
         "Miyapur",
         638.54,
         "2025-09-01T12:56:00.000Z",
         "2025-09-01T13:17:00.000Z",
         21.0,
         1
        ],
        [
         "CUST054",
         "Customer_54",
         "Kukatpally",
         "REST005",
         "Restaurant_REST005",
         "Hitech City",
         "DP05",
         "Partner_DP05",
         "Ameerpet",
         537.49,
         "2025-09-01T08:56:00.000Z",
         "2025-09-01T10:04:00.000Z",
         68.0,
         1
        ],
        [
         "CUST055",
         "Customer_55",
         "Gachibowli",
         "REST010",
         "Restaurant_REST010",
         "Begumpet",
         "DP05",
         "Partner_DP05",
         "Secunderabad",
         561.47,
         "2025-09-01T10:51:00.000Z",
         "2025-09-01T12:05:00.000Z",
         74.0,
         0
        ],
        [
         "CUST056",
         "Customer_56",
         "Gachibowli",
         "REST003",
         "Restaurant_REST003",
         "Jubilee Hills",
         "DP02",
         "Partner_DP02",
         "Ameerpet",
         379.73,
         "2025-09-01T10:28:00.000Z",
         "2025-09-01T11:05:00.000Z",
         37.0,
         0
        ],
        [
         "CUST057",
         "Customer_57",
         "Gachibowli",
         "REST009",
         "Restaurant_REST009",
         "Begumpet",
         "DP05",
         "Partner_DP05",
         "Miyapur",
         679.64,
         "2025-09-01T14:30:00.000Z",
         "2025-09-01T15:03:00.000Z",
         33.0,
         1
        ],
        [
         "CUST058",
         "Customer_58",
         "Gachibowli",
         "REST008",
         "Restaurant_REST008",
         "Begumpet",
         "DP05",
         "Partner_DP05",
         "Ameerpet",
         620.48,
         "2025-09-01T16:48:00.000Z",
         "2025-09-01T18:07:00.000Z",
         79.0,
         0
        ],
        [
         "CUST059",
         "Customer_59",
         "Banjara Hills",
         "REST003",
         "Restaurant_REST003",
         "Hitech City",
         "DP05",
         "Partner_DP05",
         "Miyapur",
         263.96,
         "2025-09-01T22:22:00.000Z",
         "2025-09-01T23:43:00.000Z",
         81.0,
         0
        ],
        [
         "CUST060",
         "Customer_60",
         "Banjara Hills",
         "REST005",
         "Restaurant_REST005",
         "Hitech City",
         "DP04",
         "Partner_DP04",
         "Secunderabad",
         791.13,
         "2025-09-01T17:48:00.000Z",
         "2025-09-01T18:27:00.000Z",
         39.0,
         1
        ],
        [
         "CUST061",
         "Customer_61",
         "Kukatpally",
         "REST005",
         "Restaurant_REST005",
         "Hitech City",
         "DP04",
         "Partner_DP04",
         "Miyapur",
         312.93,
         "2025-09-01T22:47:00.000Z",
         "2025-09-02T00:06:00.000Z",
         79.0,
         0
        ],
        [
         "CUST062",
         "Customer_62",
         "Gachibowli",
         "REST007",
         "Restaurant_REST007",
         "Hitech City",
         "DP04",
         "Partner_DP04",
         "Ameerpet",
         621.62,
         "2025-09-01T17:46:00.000Z",
         "2025-09-01T18:52:00.000Z",
         66.0,
         0
        ],
        [
         "CUST063",
         "Customer_63",
         "Madhapur",
         "REST009",
         "Restaurant_REST009",
         "Hitech City",
         "DP03",
         "Partner_DP03",
         "Secunderabad",
         718.98,
         "2025-09-01T14:19:00.000Z",
         "2025-09-01T15:10:00.000Z",
         51.0,
         0
        ],
        [
         "CUST064",
         "Customer_64",
         "Madhapur",
         "REST006",
         "Restaurant_REST006",
         "Hitech City",
         "DP02",
         "Partner_DP02",
         "Ameerpet",
         356.12,
         "2025-09-01T12:12:00.000Z",
         "2025-09-01T13:22:00.000Z",
         70.0,
         1
        ],
        [
         "CUST065",
         "Customer_65",
         "Banjara Hills",
         "REST003",
         "Restaurant_REST003",
         "Jubilee Hills",
         "DP05",
         "Partner_DP05",
         "Ameerpet",
         500.93,
         "2025-09-01T23:25:00.000Z",
         "2025-09-02T00:46:00.000Z",
         81.0,
         0
        ],
        [
         "CUST066",
         "Customer_66",
         "Kukatpally",
         "REST003",
         "Restaurant_REST003",
         "Begumpet",
         "DP04",
         "Partner_DP04",
         "Miyapur",
         166.9,
         "2025-09-01T16:01:00.000Z",
         "2025-09-01T17:13:00.000Z",
         72.0,
         0
        ],
        [
         "CUST067",
         "Customer_67",
         "Gachibowli",
         "REST003",
         "Restaurant_REST003",
         "Hitech City",
         "DP05",
         "Partner_DP05",
         "Secunderabad",
         218.07,
         "2025-09-01T14:14:00.000Z",
         "2025-09-01T14:59:00.000Z",
         45.0,
         0
        ],
        [
         "CUST068",
         "Customer_68",
         "Gachibowli",
         "REST001",
         "Restaurant_REST001",
         "Hitech City",
         "DP03",
         "Partner_DP03",
         "Secunderabad",
         431.48,
         "2025-09-01T19:38:00.000Z",
         "2025-09-01T20:37:00.000Z",
         59.0,
         0
        ],
        [
         "CUST069",
         "Customer_69",
         "Madhapur",
         "REST008",
         "Restaurant_REST008",
         "Begumpet",
         "DP05",
         "Partner_DP05",
         "Miyapur",
         744.85,
         "2025-09-01T14:52:00.000Z",
         "2025-09-01T15:28:00.000Z",
         36.0,
         0
        ],
        [
         "CUST070",
         "Customer_70",
         "Gachibowli",
         "REST001",
         "Restaurant_REST001",
         "Hitech City",
         "DP03",
         "Partner_DP03",
         "Ameerpet",
         690.72,
         "2025-09-01T22:16:00.000Z",
         "2025-09-01T23:42:00.000Z",
         86.0,
         0
        ],
        [
         "CUST071",
         "Customer_71",
         "Banjara Hills",
         "REST003",
         "Restaurant_REST003",
         "Begumpet",
         "DP02",
         "Partner_DP02",
         "Secunderabad",
         376.42,
         "2025-09-01T11:54:00.000Z",
         "2025-09-01T13:05:00.000Z",
         71.0,
         0
        ],
        [
         "CUST072",
         "Customer_72",
         "Gachibowli",
         "REST010",
         "Restaurant_REST010",
         "Begumpet",
         "DP05",
         "Partner_DP05",
         "Miyapur",
         639.32,
         "2025-09-01T18:38:00.000Z",
         "2025-09-01T19:45:00.000Z",
         67.0,
         1
        ],
        [
         "CUST073",
         "Customer_73",
         "Gachibowli",
         "REST007",
         "Restaurant_REST007",
         "Jubilee Hills",
         "DP02",
         "Partner_DP02",
         "Ameerpet",
         416.4,
         "2025-09-01T14:12:00.000Z",
         "2025-09-01T15:11:00.000Z",
         59.0,
         0
        ],
        [
         "CUST074",
         "Customer_74",
         "Gachibowli",
         "REST003",
         "Restaurant_REST003",
         "Jubilee Hills",
         "DP01",
         "Partner_DP01",
         "Secunderabad",
         450.56,
         "2025-09-01T21:27:00.000Z",
         "2025-09-01T21:53:00.000Z",
         26.0,
         0
        ],
        [
         "CUST075",
         "Customer_75",
         "Kukatpally",
         "REST006",
         "Restaurant_REST006",
         "Jubilee Hills",
         "DP05",
         "Partner_DP05",
         "Secunderabad",
         658.9,
         "2025-09-01T08:30:00.000Z",
         "2025-09-01T09:18:00.000Z",
         48.0,
         1
        ],
        [
         "CUST076",
         "Customer_76",
         "Banjara Hills",
         "REST010",
         "Restaurant_REST010",
         "Hitech City",
         "DP03",
         "Partner_DP03",
         "Miyapur",
         567.52,
         "2025-09-01T10:11:00.000Z",
         "2025-09-01T11:28:00.000Z",
         77.0,
         1
        ],
        [
         "CUST077",
         "Customer_77",
         "Gachibowli",
         "REST002",
         "Restaurant_REST002",
         "Begumpet",
         "DP04",
         "Partner_DP04",
         "Secunderabad",
         588.14,
         "2025-09-01T21:42:00.000Z",
         "2025-09-01T22:31:00.000Z",
         49.0,
         0
        ],
        [
         "CUST078",
         "Customer_78",
         "Gachibowli",
         "REST004",
         "Restaurant_REST004",
         "Hitech City",
         "DP02",
         "Partner_DP02",
         "Secunderabad",
         706.62,
         "2025-09-01T08:56:00.000Z",
         "2025-09-01T09:29:00.000Z",
         33.0,
         0
        ],
        [
         "CUST079",
         "Customer_79",
         "Kukatpally",
         "REST001",
         "Restaurant_REST001",
         "Hitech City",
         "DP03",
         "Partner_DP03",
         "Ameerpet",
         471.97,
         "2025-09-01T18:12:00.000Z",
         "2025-09-01T18:51:00.000Z",
         39.0,
         0
        ],
        [
         "CUST080",
         "Customer_80",
         "Kukatpally",
         "REST002",
         "Restaurant_REST002",
         "Begumpet",
         "DP02",
         "Partner_DP02",
         "Secunderabad",
         460.73,
         "2025-09-01T21:36:00.000Z",
         "2025-09-01T22:20:00.000Z",
         44.0,
         0
        ],
        [
         "CUST081",
         "Customer_81",
         "Madhapur",
         "REST007",
         "Restaurant_REST007",
         "Jubilee Hills",
         "DP03",
         "Partner_DP03",
         "Miyapur",
         150.39,
         "2025-09-01T08:14:00.000Z",
         "2025-09-01T09:19:00.000Z",
         65.0,
         0
        ],
        [
         "CUST082",
         "Customer_82",
         "Kukatpally",
         "REST006",
         "Restaurant_REST006",
         "Begumpet",
         "DP05",
         "Partner_DP05",
         "Secunderabad",
         338.12,
         "2025-09-01T12:55:00.000Z",
         "2025-09-01T14:23:00.000Z",
         88.0,
         0
        ],
        [
         "CUST083",
         "Customer_83",
         "Banjara Hills",
         "REST002",
         "Restaurant_REST002",
         "Begumpet",
         "DP03",
         "Partner_DP03",
         "Miyapur",
         701.02,
         "2025-09-01T14:45:00.000Z",
         "2025-09-01T16:14:00.000Z",
         89.0,
         0
        ],
        [
         "CUST084",
         "Customer_84",
         "Kukatpally",
         "REST009",
         "Restaurant_REST009",
         "Jubilee Hills",
         "DP03",
         "Partner_DP03",
         "Ameerpet",
         738.29,
         "2025-09-01T12:17:00.000Z",
         "2025-09-01T13:29:00.000Z",
         72.0,
         0
        ],
        [
         "CUST085",
         "Customer_85",
         "Madhapur",
         "REST003",
         "Restaurant_REST003",
         "Hitech City",
         "DP04",
         "Partner_DP04",
         "Ameerpet",
         739.84,
         "2025-09-01T18:24:00.000Z",
         "2025-09-01T19:20:00.000Z",
         56.0,
         0
        ],
        [
         "CUST086",
         "Customer_86",
         "Gachibowli",
         "REST003",
         "Restaurant_REST003",
         "Begumpet",
         "DP05",
         "Partner_DP05",
         "Secunderabad",
         747.42,
         "2025-09-01T08:01:00.000Z",
         "2025-09-01T08:39:00.000Z",
         38.0,
         0
        ],
        [
         "CUST087",
         "Customer_87",
         "Banjara Hills",
         "REST004",
         "Restaurant_REST004",
         "Hitech City",
         "DP04",
         "Partner_DP04",
         "Miyapur",
         509.13,
         "2025-09-01T09:08:00.000Z",
         "2025-09-01T09:46:00.000Z",
         38.0,
         0
        ],
        [
         "CUST088",
         "Customer_88",
         "Madhapur",
         "REST010",
         "Restaurant_REST010",
         "Jubilee Hills",
         "DP02",
         "Partner_DP02",
         "Ameerpet",
         228.98,
         "2025-09-01T22:07:00.000Z",
         "2025-09-01T23:07:00.000Z",
         60.0,
         0
        ],
        [
         "CUST089",
         "Customer_89",
         "Gachibowli",
         "REST010",
         "Restaurant_REST010",
         "Begumpet",
         "DP03",
         "Partner_DP03",
         "Secunderabad",
         513.27,
         "2025-09-01T15:26:00.000Z",
         "2025-09-01T15:59:00.000Z",
         33.0,
         0
        ],
        [
         "CUST090",
         "Customer_90",
         "Madhapur",
         "REST007",
         "Restaurant_REST007",
         "Jubilee Hills",
         "DP04",
         "Partner_DP04",
         "Secunderabad",
         484.05,
         "2025-09-01T15:16:00.000Z",
         "2025-09-01T16:02:00.000Z",
         46.0,
         0
        ],
        [
         "CUST091",
         "Customer_91",
         "Kukatpally",
         "REST004",
         "Restaurant_REST004",
         "Hitech City",
         "DP01",
         "Partner_DP01",
         "Ameerpet",
         152.9,
         "2025-09-01T23:57:00.000Z",
         "2025-09-02T01:16:00.000Z",
         79.0,
         0
        ],
        [
         "CUST092",
         "Customer_92",
         "Banjara Hills",
         "REST007",
         "Restaurant_REST007",
         "Hitech City",
         "DP05",
         "Partner_DP05",
         "Ameerpet",
         552.14,
         "2025-09-01T13:40:00.000Z",
         "2025-09-01T14:12:00.000Z",
         32.0,
         0
        ],
        [
         "CUST093",
         "Customer_93",
         "Kukatpally",
         "REST003",
         "Restaurant_REST003",
         "Hitech City",
         "DP04",
         "Partner_DP04",
         "Miyapur",
         316.41,
         "2025-09-01T11:30:00.000Z",
         "2025-09-01T12:34:00.000Z",
         64.0,
         0
        ],
        [
         "CUST094",
         "Customer_94",
         "Gachibowli",
         "REST002",
         "Restaurant_REST002",
         "Begumpet",
         "DP05",
         "Partner_DP05",
         "Secunderabad",
         754.17,
         "2025-09-01T23:32:00.000Z",
         "2025-09-02T00:35:00.000Z",
         63.0,
         0
        ],
        [
         "CUST095",
         "Customer_95",
         "Kukatpally",
         "REST003",
         "Restaurant_REST003",
         "Jubilee Hills",
         "DP05",
         "Partner_DP05",
         "Ameerpet",
         214.81,
         "2025-09-01T09:47:00.000Z",
         "2025-09-01T10:39:00.000Z",
         52.0,
         1
        ],
        [
         "CUST096",
         "Customer_96",
         "Banjara Hills",
         "REST002",
         "Restaurant_REST002",
         "Begumpet",
         "DP04",
         "Partner_DP04",
         "Ameerpet",
         329.11,
         "2025-09-01T11:45:00.000Z",
         "2025-09-01T12:09:00.000Z",
         24.0,
         1
        ],
        [
         "CUST097",
         "Customer_97",
         "Kukatpally",
         "REST009",
         "Restaurant_REST009",
         "Hitech City",
         "DP01",
         "Partner_DP01",
         "Secunderabad",
         397.35,
         "2025-09-01T23:43:00.000Z",
         "2025-09-02T00:37:00.000Z",
         54.0,
         0
        ],
        [
         "CUST098",
         "Customer_98",
         "Gachibowli",
         "REST005",
         "Restaurant_REST005",
         "Hitech City",
         "DP04",
         "Partner_DP04",
         "Miyapur",
         536.93,
         "2025-09-01T20:51:00.000Z",
         "2025-09-01T22:19:00.000Z",
         88.0,
         1
        ],
        [
         "CUST099",
         "Customer_99",
         "Banjara Hills",
         "REST008",
         "Restaurant_REST008",
         "Begumpet",
         "DP03",
         "Partner_DP03",
         "Miyapur",
         604.62,
         "2025-09-01T21:59:00.000Z",
         "2025-09-01T23:03:00.000Z",
         64.0,
         0
        ],
        [
         "CUST100",
         "Customer_100",
         "Madhapur",
         "REST007",
         "Restaurant_REST007",
         "Begumpet",
         "DP01",
         "Partner_DP01",
         "Miyapur",
         196.17,
         "2025-09-01T11:31:00.000Z",
         "2025-09-01T12:04:00.000Z",
         33.0,
         0
        ]
       ],
       "datasetInfos": [],
       "dbfsResultPath": null,
       "isJsonSchema": true,
       "metadata": {},
       "overflow": false,
       "plotOptions": {
        "customPlotOptions": {},
        "displayType": "table",
        "pivotAggregation": null,
        "pivotColumns": null,
        "xColumns": null,
        "yColumns": null
       },
       "removedWidgets": [],
       "schema": [
        {
         "metadata": "{}",
         "name": "customer_id",
         "type": "\"string\""
        },
        {
         "metadata": "{}",
         "name": "customer_name",
         "type": "\"string\""
        },
        {
         "metadata": "{}",
         "name": "customer_locality",
         "type": "\"string\""
        },
        {
         "metadata": "{}",
         "name": "restaurant_id",
         "type": "\"string\""
        },
        {
         "metadata": "{}",
         "name": "restaurant_name",
         "type": "\"string\""
        },
        {
         "metadata": "{}",
         "name": "restaurant_locality",
         "type": "\"string\""
        },
        {
         "metadata": "{}",
         "name": "delivery_partner_id",
         "type": "\"string\""
        },
        {
         "metadata": "{}",
         "name": "delivery_partner_name",
         "type": "\"string\""
        },
        {
         "metadata": "{}",
         "name": "delivery_partner_locality",
         "type": "\"string\""
        },
        {
         "metadata": "{}",
         "name": "order_value",
         "type": "\"double\""
        },
        {
         "metadata": "{}",
         "name": "order_time",
         "type": "\"timestamp\""
        },
        {
         "metadata": "{}",
         "name": "delivery_time",
         "type": "\"timestamp\""
        },
        {
         "metadata": "{}",
         "name": "delivery_duration",
         "type": "\"double\""
        },
        {
         "metadata": "{}",
         "name": "cancelled",
         "type": "\"long\""
        }
       ],
       "type": "table"
      }
     },
     "output_type": "display_data"
    }
   ],
   "source": [
    "#import libraries\n",
    "from pyspark.sql import SparkSession\n",
    "from pyspark.sql.functions import sum as spark_sum, avg, col, hour\n",
    "from pyspark.sql.types import *\n",
    "\n",
    "# spark dataframe\n",
    "orders_df = spark.createDataFrame(pdf)\n",
    "display(orders_df)"
   ]
  },
  {
   "cell_type": "code",
   "execution_count": 0,
   "metadata": {
    "application/vnd.databricks.v1+cell": {
     "cellMetadata": {
      "byteLimit": 2048000,
      "rowLimit": 10000
     },
     "inputWidgets": {},
     "nuid": "4fa6ca07-7d63-49c1-a58a-3167098daff3",
     "showTitle": false,
     "tableResultSettingsMap": {},
     "title": ""
    }
   },
   "outputs": [
    {
     "output_type": "display_data",
     "data": {
      "text/html": [
       "<style scoped>\n",
       "  .table-result-container {\n",
       "    max-height: 300px;\n",
       "    overflow: auto;\n",
       "  }\n",
       "  table, th, td {\n",
       "    border: 1px solid black;\n",
       "    border-collapse: collapse;\n",
       "  }\n",
       "  th, td {\n",
       "    padding: 5px;\n",
       "  }\n",
       "  th {\n",
       "    text-align: left;\n",
       "  }\n",
       "</style><div class='table-result-container'><table class='table-result'><thead style='background-color: white'><tr><th>customer_id</th><th>customer_name</th><th>total_order_value</th></tr></thead><tbody><tr><td>CUST060</td><td>Customer_60</td><td>791.13</td></tr><tr><td>CUST046</td><td>Customer_46</td><td>785.78</td></tr><tr><td>CUST017</td><td>Customer_17</td><td>785.17</td></tr><tr><td>CUST012</td><td>Customer_12</td><td>773.14</td></tr><tr><td>CUST031</td><td>Customer_31</td><td>768.11</td></tr><tr><td>CUST030</td><td>Customer_30</td><td>764.32</td></tr><tr><td>CUST005</td><td>Customer_5</td><td>759.89</td></tr><tr><td>CUST094</td><td>Customer_94</td><td>754.17</td></tr><tr><td>CUST086</td><td>Customer_86</td><td>747.42</td></tr><tr><td>CUST069</td><td>Customer_69</td><td>744.85</td></tr><tr><td>CUST085</td><td>Customer_85</td><td>739.84</td></tr><tr><td>CUST084</td><td>Customer_84</td><td>738.29</td></tr><tr><td>CUST013</td><td>Customer_13</td><td>733.1</td></tr><tr><td>CUST035</td><td>Customer_35</td><td>726.39</td></tr><tr><td>CUST063</td><td>Customer_63</td><td>718.98</td></tr><tr><td>CUST016</td><td>Customer_16</td><td>718.91</td></tr><tr><td>CUST027</td><td>Customer_27</td><td>718.81</td></tr><tr><td>CUST040</td><td>Customer_40</td><td>717.68</td></tr><tr><td>CUST078</td><td>Customer_78</td><td>706.62</td></tr><tr><td>CUST041</td><td>Customer_41</td><td>702.66</td></tr><tr><td>CUST083</td><td>Customer_83</td><td>701.02</td></tr><tr><td>CUST070</td><td>Customer_70</td><td>690.72</td></tr><tr><td>CUST057</td><td>Customer_57</td><td>679.64</td></tr><tr><td>CUST022</td><td>Customer_22</td><td>659.78</td></tr><tr><td>CUST075</td><td>Customer_75</td><td>658.9</td></tr><tr><td>CUST008</td><td>Customer_8</td><td>648.16</td></tr><tr><td>CUST009</td><td>Customer_9</td><td>644.63</td></tr><tr><td>CUST072</td><td>Customer_72</td><td>639.32</td></tr><tr><td>CUST053</td><td>Customer_53</td><td>638.54</td></tr><tr><td>CUST021</td><td>Customer_21</td><td>632.4</td></tr><tr><td>CUST062</td><td>Customer_62</td><td>621.62</td></tr><tr><td>CUST058</td><td>Customer_58</td><td>620.48</td></tr><tr><td>CUST099</td><td>Customer_99</td><td>604.62</td></tr><tr><td>CUST077</td><td>Customer_77</td><td>588.14</td></tr><tr><td>CUST010</td><td>Customer_10</td><td>585.56</td></tr><tr><td>CUST076</td><td>Customer_76</td><td>567.52</td></tr><tr><td>CUST055</td><td>Customer_55</td><td>561.47</td></tr><tr><td>CUST092</td><td>Customer_92</td><td>552.14</td></tr><tr><td>CUST025</td><td>Customer_25</td><td>548.42</td></tr><tr><td>CUST054</td><td>Customer_54</td><td>537.49</td></tr><tr><td>CUST098</td><td>Customer_98</td><td>536.93</td></tr><tr><td>CUST089</td><td>Customer_89</td><td>513.27</td></tr><tr><td>CUST087</td><td>Customer_87</td><td>509.13</td></tr><tr><td>CUST003</td><td>Customer_3</td><td>504.77</td></tr><tr><td>CUST036</td><td>Customer_36</td><td>504.77</td></tr><tr><td>CUST032</td><td>Customer_32</td><td>501.45</td></tr><tr><td>CUST065</td><td>Customer_65</td><td>500.93</td></tr><tr><td>CUST011</td><td>Customer_11</td><td>495.37</td></tr><tr><td>CUST002</td><td>Customer_2</td><td>490.63</td></tr><tr><td>CUST090</td><td>Customer_90</td><td>484.05</td></tr><tr><td>CUST045</td><td>Customer_45</td><td>480.68</td></tr><tr><td>CUST049</td><td>Customer_49</td><td>476.34</td></tr><tr><td>CUST079</td><td>Customer_79</td><td>471.97</td></tr><tr><td>CUST020</td><td>Customer_20</td><td>463.24</td></tr><tr><td>CUST080</td><td>Customer_80</td><td>460.73</td></tr><tr><td>CUST029</td><td>Customer_29</td><td>453.8</td></tr><tr><td>CUST074</td><td>Customer_74</td><td>450.56</td></tr><tr><td>CUST068</td><td>Customer_68</td><td>431.48</td></tr><tr><td>CUST004</td><td>Customer_4</td><td>429.83</td></tr><tr><td>CUST038</td><td>Customer_38</td><td>425.28</td></tr><tr><td>CUST073</td><td>Customer_73</td><td>416.4</td></tr><tr><td>CUST018</td><td>Customer_18</td><td>409.35</td></tr><tr><td>CUST039</td><td>Customer_39</td><td>397.49</td></tr><tr><td>CUST097</td><td>Customer_97</td><td>397.35</td></tr><tr><td>CUST052</td><td>Customer_52</td><td>389.48</td></tr><tr><td>CUST019</td><td>Customer_19</td><td>387.43</td></tr><tr><td>CUST015</td><td>Customer_15</td><td>386.72</td></tr><tr><td>CUST056</td><td>Customer_56</td><td>379.73</td></tr><tr><td>CUST071</td><td>Customer_71</td><td>376.42</td></tr><tr><td>CUST034</td><td>Customer_34</td><td>376.39</td></tr><tr><td>CUST007</td><td>Customer_7</td><td>366.78</td></tr><tr><td>CUST064</td><td>Customer_64</td><td>356.12</td></tr><tr><td>CUST048</td><td>Customer_48</td><td>355.11</td></tr><tr><td>CUST042</td><td>Customer_42</td><td>340.16</td></tr><tr><td>CUST082</td><td>Customer_82</td><td>338.12</td></tr><tr><td>CUST096</td><td>Customer_96</td><td>329.11</td></tr><tr><td>CUST093</td><td>Customer_93</td><td>316.41</td></tr><tr><td>CUST001</td><td>Customer_1</td><td>313.56</td></tr><tr><td>CUST061</td><td>Customer_61</td><td>312.93</td></tr><tr><td>CUST050</td><td>Customer_50</td><td>310.89</td></tr><tr><td>CUST026</td><td>Customer_26</td><td>305.29</td></tr><tr><td>CUST024</td><td>Customer_24</td><td>298.61</td></tr><tr><td>CUST006</td><td>Customer_6</td><td>290.95</td></tr><tr><td>CUST059</td><td>Customer_59</td><td>263.96</td></tr><tr><td>CUST051</td><td>Customer_51</td><td>257.67</td></tr><tr><td>CUST014</td><td>Customer_14</td><td>250.74</td></tr><tr><td>CUST033</td><td>Customer_33</td><td>242.75</td></tr><tr><td>CUST088</td><td>Customer_88</td><td>228.98</td></tr><tr><td>CUST037</td><td>Customer_37</td><td>219.33</td></tr><tr><td>CUST067</td><td>Customer_67</td><td>218.07</td></tr><tr><td>CUST095</td><td>Customer_95</td><td>214.81</td></tr><tr><td>CUST047</td><td>Customer_47</td><td>210.24</td></tr><tr><td>CUST023</td><td>Customer_23</td><td>205.42</td></tr><tr><td>CUST100</td><td>Customer_100</td><td>196.17</td></tr><tr><td>CUST043</td><td>Customer_43</td><td>195.57</td></tr><tr><td>CUST044</td><td>Customer_44</td><td>184.88</td></tr><tr><td>CUST066</td><td>Customer_66</td><td>166.9</td></tr><tr><td>CUST028</td><td>Customer_28</td><td>160.43</td></tr><tr><td>CUST091</td><td>Customer_91</td><td>152.9</td></tr><tr><td>CUST081</td><td>Customer_81</td><td>150.39</td></tr></tbody></table></div>"
      ]
     },
     "metadata": {
      "application/vnd.databricks.v1+output": {
       "addedWidgets": {},
       "aggData": [],
       "aggError": "",
       "aggOverflow": false,
       "aggSchema": [],
       "aggSeriesLimitReached": false,
       "aggType": "",
       "arguments": {},
       "columnCustomDisplayInfos": {},
       "data": [
        [
         "CUST060",
         "Customer_60",
         791.13
        ],
        [
         "CUST046",
         "Customer_46",
         785.78
        ],
        [
         "CUST017",
         "Customer_17",
         785.17
        ],
        [
         "CUST012",
         "Customer_12",
         773.14
        ],
        [
         "CUST031",
         "Customer_31",
         768.11
        ],
        [
         "CUST030",
         "Customer_30",
         764.32
        ],
        [
         "CUST005",
         "Customer_5",
         759.89
        ],
        [
         "CUST094",
         "Customer_94",
         754.17
        ],
        [
         "CUST086",
         "Customer_86",
         747.42
        ],
        [
         "CUST069",
         "Customer_69",
         744.85
        ],
        [
         "CUST085",
         "Customer_85",
         739.84
        ],
        [
         "CUST084",
         "Customer_84",
         738.29
        ],
        [
         "CUST013",
         "Customer_13",
         733.1
        ],
        [
         "CUST035",
         "Customer_35",
         726.39
        ],
        [
         "CUST063",
         "Customer_63",
         718.98
        ],
        [
         "CUST016",
         "Customer_16",
         718.91
        ],
        [
         "CUST027",
         "Customer_27",
         718.81
        ],
        [
         "CUST040",
         "Customer_40",
         717.68
        ],
        [
         "CUST078",
         "Customer_78",
         706.62
        ],
        [
         "CUST041",
         "Customer_41",
         702.66
        ],
        [
         "CUST083",
         "Customer_83",
         701.02
        ],
        [
         "CUST070",
         "Customer_70",
         690.72
        ],
        [
         "CUST057",
         "Customer_57",
         679.64
        ],
        [
         "CUST022",
         "Customer_22",
         659.78
        ],
        [
         "CUST075",
         "Customer_75",
         658.9
        ],
        [
         "CUST008",
         "Customer_8",
         648.16
        ],
        [
         "CUST009",
         "Customer_9",
         644.63
        ],
        [
         "CUST072",
         "Customer_72",
         639.32
        ],
        [
         "CUST053",
         "Customer_53",
         638.54
        ],
        [
         "CUST021",
         "Customer_21",
         632.4
        ],
        [
         "CUST062",
         "Customer_62",
         621.62
        ],
        [
         "CUST058",
         "Customer_58",
         620.48
        ],
        [
         "CUST099",
         "Customer_99",
         604.62
        ],
        [
         "CUST077",
         "Customer_77",
         588.14
        ],
        [
         "CUST010",
         "Customer_10",
         585.56
        ],
        [
         "CUST076",
         "Customer_76",
         567.52
        ],
        [
         "CUST055",
         "Customer_55",
         561.47
        ],
        [
         "CUST092",
         "Customer_92",
         552.14
        ],
        [
         "CUST025",
         "Customer_25",
         548.42
        ],
        [
         "CUST054",
         "Customer_54",
         537.49
        ],
        [
         "CUST098",
         "Customer_98",
         536.93
        ],
        [
         "CUST089",
         "Customer_89",
         513.27
        ],
        [
         "CUST087",
         "Customer_87",
         509.13
        ],
        [
         "CUST003",
         "Customer_3",
         504.77
        ],
        [
         "CUST036",
         "Customer_36",
         504.77
        ],
        [
         "CUST032",
         "Customer_32",
         501.45
        ],
        [
         "CUST065",
         "Customer_65",
         500.93
        ],
        [
         "CUST011",
         "Customer_11",
         495.37
        ],
        [
         "CUST002",
         "Customer_2",
         490.63
        ],
        [
         "CUST090",
         "Customer_90",
         484.05
        ],
        [
         "CUST045",
         "Customer_45",
         480.68
        ],
        [
         "CUST049",
         "Customer_49",
         476.34
        ],
        [
         "CUST079",
         "Customer_79",
         471.97
        ],
        [
         "CUST020",
         "Customer_20",
         463.24
        ],
        [
         "CUST080",
         "Customer_80",
         460.73
        ],
        [
         "CUST029",
         "Customer_29",
         453.8
        ],
        [
         "CUST074",
         "Customer_74",
         450.56
        ],
        [
         "CUST068",
         "Customer_68",
         431.48
        ],
        [
         "CUST004",
         "Customer_4",
         429.83
        ],
        [
         "CUST038",
         "Customer_38",
         425.28
        ],
        [
         "CUST073",
         "Customer_73",
         416.4
        ],
        [
         "CUST018",
         "Customer_18",
         409.35
        ],
        [
         "CUST039",
         "Customer_39",
         397.49
        ],
        [
         "CUST097",
         "Customer_97",
         397.35
        ],
        [
         "CUST052",
         "Customer_52",
         389.48
        ],
        [
         "CUST019",
         "Customer_19",
         387.43
        ],
        [
         "CUST015",
         "Customer_15",
         386.72
        ],
        [
         "CUST056",
         "Customer_56",
         379.73
        ],
        [
         "CUST071",
         "Customer_71",
         376.42
        ],
        [
         "CUST034",
         "Customer_34",
         376.39
        ],
        [
         "CUST007",
         "Customer_7",
         366.78
        ],
        [
         "CUST064",
         "Customer_64",
         356.12
        ],
        [
         "CUST048",
         "Customer_48",
         355.11
        ],
        [
         "CUST042",
         "Customer_42",
         340.16
        ],
        [
         "CUST082",
         "Customer_82",
         338.12
        ],
        [
         "CUST096",
         "Customer_96",
         329.11
        ],
        [
         "CUST093",
         "Customer_93",
         316.41
        ],
        [
         "CUST001",
         "Customer_1",
         313.56
        ],
        [
         "CUST061",
         "Customer_61",
         312.93
        ],
        [
         "CUST050",
         "Customer_50",
         310.89
        ],
        [
         "CUST026",
         "Customer_26",
         305.29
        ],
        [
         "CUST024",
         "Customer_24",
         298.61
        ],
        [
         "CUST006",
         "Customer_6",
         290.95
        ],
        [
         "CUST059",
         "Customer_59",
         263.96
        ],
        [
         "CUST051",
         "Customer_51",
         257.67
        ],
        [
         "CUST014",
         "Customer_14",
         250.74
        ],
        [
         "CUST033",
         "Customer_33",
         242.75
        ],
        [
         "CUST088",
         "Customer_88",
         228.98
        ],
        [
         "CUST037",
         "Customer_37",
         219.33
        ],
        [
         "CUST067",
         "Customer_67",
         218.07
        ],
        [
         "CUST095",
         "Customer_95",
         214.81
        ],
        [
         "CUST047",
         "Customer_47",
         210.24
        ],
        [
         "CUST023",
         "Customer_23",
         205.42
        ],
        [
         "CUST100",
         "Customer_100",
         196.17
        ],
        [
         "CUST043",
         "Customer_43",
         195.57
        ],
        [
         "CUST044",
         "Customer_44",
         184.88
        ],
        [
         "CUST066",
         "Customer_66",
         166.9
        ],
        [
         "CUST028",
         "Customer_28",
         160.43
        ],
        [
         "CUST091",
         "Customer_91",
         152.9
        ],
        [
         "CUST081",
         "Customer_81",
         150.39
        ]
       ],
       "datasetInfos": [],
       "dbfsResultPath": null,
       "isJsonSchema": true,
       "metadata": {},
       "overflow": false,
       "plotOptions": {
        "customPlotOptions": {},
        "displayType": "table",
        "pivotAggregation": null,
        "pivotColumns": null,
        "xColumns": null,
        "yColumns": null
       },
       "removedWidgets": [],
       "schema": [
        {
         "metadata": "{}",
         "name": "customer_id",
         "type": "\"string\""
        },
        {
         "metadata": "{}",
         "name": "customer_name",
         "type": "\"string\""
        },
        {
         "metadata": "{}",
         "name": "total_order_value",
         "type": "\"double\""
        }
       ],
       "type": "table"
      }
     },
     "output_type": "display_data"
    },
    {
     "output_type": "display_data",
     "data": {
      "text/plain": [
       "Databricks visualization. Run in Databricks to view."
      ]
     },
     "metadata": {
      "application/vnd.databricks.v1.subcommand+json": {
       "baseErrorDetails": null,
       "bindings": {},
       "collapsed": false,
       "command": "%python\n__backend_agg_display_orig = display\n__backend_agg_dfs = []\ndef __backend_agg_display_new(df):\n    __backend_agg_df_modules = [\"pandas.core.frame\", \"databricks.koalas.frame\", \"pyspark.sql.dataframe\", \"pyspark.pandas.frame\", \"pyspark.sql.connect.dataframe\"]\n    if (type(df).__module__ in __backend_agg_df_modules and type(df).__name__ == 'DataFrame') or isinstance(df, list):\n        __backend_agg_dfs.append(df)\n\ndisplay = __backend_agg_display_new\n\ndef __backend_agg_user_code_fn():\n    import base64\n    exec(base64.standard_b64decode(\"IyBBbmFseXNpcyAxOiBUb3RhbCBPcmRlciBWYWx1ZSBwZXIgQ3VzdG9tZXIKCnRvdGFsX29yZGVyX3ZhbHVlX2RmID0gb3JkZXJzX2RmLmdyb3VwQnkoImN1c3RvbWVyX2lkIiwgImN1c3RvbWVyX25hbWUiKSBcCiAgICAuYWdnKHNwYXJrX3N1bSgib3JkZXJfdmFsdWUiKS5hbGlhcygidG90YWxfb3JkZXJfdmFsdWUiKSkgXAogICAgLm9yZGVyQnkoY29sKCJ0b3RhbF9vcmRlcl92YWx1ZSIpLmRlc2MoKSkKCmRpc3BsYXkodG90YWxfb3JkZXJfdmFsdWVfZGYpCg==\").decode())\n\ntry:\n    # run user code\n    __backend_agg_user_code_fn()\n\n    #reset display function\n    display = __backend_agg_display_orig\n\n    if len(__backend_agg_dfs) > 0:\n        # create a temp view\n        if type(__backend_agg_dfs[0]).__module__ == \"databricks.koalas.frame\":\n            # koalas dataframe\n            __backend_agg_dfs[0].to_spark().createOrReplaceTempView(\"DatabricksView2d6ccf5\")\n        elif type(__backend_agg_dfs[0]).__module__ == \"pandas.core.frame\" or isinstance(__backend_agg_dfs[0], list):\n            # pandas dataframe\n            spark.createDataFrame(__backend_agg_dfs[0]).createOrReplaceTempView(\"DatabricksView2d6ccf5\")\n        else:\n            __backend_agg_dfs[0].createOrReplaceTempView(\"DatabricksView2d6ccf5\")\n        #run backend agg\n        display(spark.sql(\"\"\"WITH q AS (select * from DatabricksView2d6ccf5) SELECT `customer_name`,SUM(`total_order_value`) `column_d0882a4348` FROM q GROUP BY `customer_name`\"\"\"))\n    else:\n        displayHTML(\"dataframe no longer exists. If you're using dataframe.display(), use display(dataframe) instead.\")\n\n\nfinally:\n    spark.sql(\"drop view if exists DatabricksView2d6ccf5\")\n    display = __backend_agg_display_orig\n    del __backend_agg_display_new\n    del __backend_agg_display_orig\n    del __backend_agg_dfs\n    del __backend_agg_user_code_fn\n\n",
       "commandTitle": "Visualization 1",
       "commandType": "auto",
       "commandVersion": 0,
       "commentThread": [],
       "commentsVisible": false,
       "contentSha256Hex": null,
       "customPlotOptions": {
        "redashChart": [
         {
          "key": "type",
          "value": "CHART"
         },
         {
          "key": "options",
          "value": {
           "alignYAxesAtZero": true,
           "coefficient": 1,
           "columnConfigurationMap": {
            "x": {
             "column": "customer_name",
             "id": "column_d0882a4346"
            },
            "y": [
             {
              "column": "total_order_value",
              "id": "column_d0882a4348",
              "transform": "SUM"
             }
            ]
           },
           "dateTimeFormat": "DD/MM/YYYY HH:mm",
           "direction": {
            "type": "counterclockwise"
           },
           "error_y": {
            "type": "data",
            "visible": true
           },
           "globalSeriesType": "column",
           "isAggregationOn": true,
           "legend": {
            "traceorder": "normal"
           },
           "missingValuesAsZero": true,
           "numberFormat": "0,0.[00000]",
           "percentFormat": "0[.]00%",
           "series": {
            "error_y": {
             "type": "data",
             "visible": true
            },
            "stacking": null
           },
           "seriesOptions": {
            "column_d0882a4348": {
             "type": "column",
             "yAxis": 0
            }
           },
           "showDataLabels": false,
           "sizemode": "diameter",
           "sortX": true,
           "sortY": true,
           "swappedAxes": false,
           "textFormat": "",
           "useAggregationsUi": true,
           "valuesOptions": {},
           "version": 2,
           "xAxis": {
            "labels": {
             "enabled": true
            },
            "type": "-"
           },
           "yAxis": [
            {
             "type": "-"
            },
            {
             "opposite": true,
             "type": "-"
            }
           ]
          }
         }
        ]
       },
       "datasetPreviewNameToCmdIdMap": {},
       "diffDeletes": [],
       "diffInserts": [],
       "displayType": "redashChart",
       "error": null,
       "errorDetails": null,
       "errorSummary": null,
       "errorTraceType": null,
       "finishTime": 0,
       "globalVars": {},
       "guid": "",
       "height": "auto",
       "hideCommandCode": false,
       "hideCommandResult": false,
       "iPythonMetadata": null,
       "inputWidgets": {},
       "isLockedInExamMode": false,
       "latestUser": "a user",
       "latestUserId": null,
       "listResultMetadata": null,
       "metadata": {},
       "nuid": "5891c75d-639f-42b1-873e-8cf8c6a2d472",
       "origId": 0,
       "parentHierarchy": [],
       "pivotAggregation": null,
       "pivotColumns": null,
       "position": 4.0,
       "resultDbfsErrorMessage": null,
       "resultDbfsStatus": "INLINED_IN_TREE",
       "results": null,
       "showCommandTitle": false,
       "startTime": 0,
       "state": "input",
       "streamStates": {},
       "subcommandOptions": {
        "queryPlan": {
         "groups": [
          {
           "column": "customer_name",
           "type": "column"
          }
         ],
         "selects": [
          {
           "column": "customer_name",
           "type": "column"
          },
          {
           "alias": "column_d0882a4348",
           "args": [
            {
             "column": "total_order_value",
             "type": "column"
            }
           ],
           "function": "SUM",
           "type": "function"
          }
         ]
        }
       },
       "submitTime": 0,
       "subtype": "tableResultSubCmd.visualization",
       "tableResultIndex": 0,
       "tableResultSettingsMap": {},
       "useConsistentColors": false,
       "version": "CommandV1",
       "width": "auto",
       "workflows": [],
       "xColumns": null,
       "yColumns": null
      }
     },
     "output_type": "display_data"
    }
   ],
   "source": [
    "# Analysis 1: Total Order Value per Customer\n",
    "\n",
    "total_order_value_df = orders_df.groupBy(\"customer_id\", \"customer_name\") \\\n",
    "    .agg(spark_sum(\"order_value\").alias(\"total_order_value\")) \\\n",
    "    .orderBy(col(\"total_order_value\").desc())\n",
    "\n",
    "display(total_order_value_df)\n"
   ]
  },
  {
   "cell_type": "code",
   "execution_count": 0,
   "metadata": {
    "application/vnd.databricks.v1+cell": {
     "cellMetadata": {
      "byteLimit": 2048000,
      "rowLimit": 10000
     },
     "inputWidgets": {},
     "nuid": "0ae37406-48b8-40cc-96e3-e09c3621cd5e",
     "showTitle": false,
     "tableResultSettingsMap": {},
     "title": ""
    }
   },
   "outputs": [
    {
     "output_type": "display_data",
     "data": {
      "text/html": [
       "<style scoped>\n",
       "  .table-result-container {\n",
       "    max-height: 300px;\n",
       "    overflow: auto;\n",
       "  }\n",
       "  table, th, td {\n",
       "    border: 1px solid black;\n",
       "    border-collapse: collapse;\n",
       "  }\n",
       "  th, td {\n",
       "    padding: 5px;\n",
       "  }\n",
       "  th {\n",
       "    text-align: left;\n",
       "  }\n",
       "</style><div class='table-result-container'><table class='table-result'><thead style='background-color: white'><tr><th>restaurant_id</th><th>restaurant_name</th><th>avg_delivery_time_mins</th></tr></thead><tbody><tr><td>REST005</td><td>Restaurant_REST005</td><td>66.72727272727273</td></tr><tr><td>REST006</td><td>Restaurant_REST006</td><td>64.0</td></tr><tr><td>REST004</td><td>Restaurant_REST004</td><td>59.857142857142854</td></tr><tr><td>REST007</td><td>Restaurant_REST007</td><td>59.38461538461539</td></tr><tr><td>REST002</td><td>Restaurant_REST002</td><td>58.625</td></tr><tr><td>REST001</td><td>Restaurant_REST001</td><td>58.166666666666664</td></tr><tr><td>REST003</td><td>Restaurant_REST003</td><td>57.68421052631579</td></tr><tr><td>REST009</td><td>Restaurant_REST009</td><td>57.0</td></tr><tr><td>REST008</td><td>Restaurant_REST008</td><td>56.285714285714285</td></tr><tr><td>REST010</td><td>Restaurant_REST010</td><td>47.888888888888886</td></tr></tbody></table></div>"
      ]
     },
     "metadata": {
      "application/vnd.databricks.v1+output": {
       "addedWidgets": {},
       "aggData": [],
       "aggError": "",
       "aggOverflow": false,
       "aggSchema": [],
       "aggSeriesLimitReached": false,
       "aggType": "",
       "arguments": {},
       "columnCustomDisplayInfos": {},
       "data": [
        [
         "REST005",
         "Restaurant_REST005",
         66.72727272727273
        ],
        [
         "REST006",
         "Restaurant_REST006",
         64.0
        ],
        [
         "REST004",
         "Restaurant_REST004",
         59.857142857142854
        ],
        [
         "REST007",
         "Restaurant_REST007",
         59.38461538461539
        ],
        [
         "REST002",
         "Restaurant_REST002",
         58.625
        ],
        [
         "REST001",
         "Restaurant_REST001",
         58.166666666666664
        ],
        [
         "REST003",
         "Restaurant_REST003",
         57.68421052631579
        ],
        [
         "REST009",
         "Restaurant_REST009",
         57.0
        ],
        [
         "REST008",
         "Restaurant_REST008",
         56.285714285714285
        ],
        [
         "REST010",
         "Restaurant_REST010",
         47.888888888888886
        ]
       ],
       "datasetInfos": [],
       "dbfsResultPath": null,
       "isJsonSchema": true,
       "metadata": {},
       "overflow": false,
       "plotOptions": {
        "customPlotOptions": {},
        "displayType": "table",
        "pivotAggregation": null,
        "pivotColumns": null,
        "xColumns": null,
        "yColumns": null
       },
       "removedWidgets": [],
       "schema": [
        {
         "metadata": "{}",
         "name": "restaurant_id",
         "type": "\"string\""
        },
        {
         "metadata": "{}",
         "name": "restaurant_name",
         "type": "\"string\""
        },
        {
         "metadata": "{}",
         "name": "avg_delivery_time_mins",
         "type": "\"double\""
        }
       ],
       "type": "table"
      }
     },
     "output_type": "display_data"
    },
    {
     "output_type": "display_data",
     "data": {
      "text/plain": [
       "Databricks visualization. Run in Databricks to view."
      ]
     },
     "metadata": {
      "application/vnd.databricks.v1.subcommand+json": {
       "baseErrorDetails": null,
       "bindings": {},
       "collapsed": false,
       "command": "%python\n__backend_agg_display_orig = display\n__backend_agg_dfs = []\ndef __backend_agg_display_new(df):\n    __backend_agg_df_modules = [\"pandas.core.frame\", \"databricks.koalas.frame\", \"pyspark.sql.dataframe\", \"pyspark.pandas.frame\", \"pyspark.sql.connect.dataframe\"]\n    if (type(df).__module__ in __backend_agg_df_modules and type(df).__name__ == 'DataFrame') or isinstance(df, list):\n        __backend_agg_dfs.append(df)\n\ndisplay = __backend_agg_display_new\n\ndef __backend_agg_user_code_fn():\n    import base64\n    exec(base64.standard_b64decode(\"IyBBdmVyYWdlIERlbGl2ZXJ5IFRpbWUgcGVyIFJlc3RhdXJhbnQKCmF2Z19kZWxpdmVyeV90aW1lX2RmID0gb3JkZXJzX2RmLmdyb3VwQnkoInJlc3RhdXJhbnRfaWQiLCAicmVzdGF1cmFudF9uYW1lIikgXAogICAgLmFnZyhhdmcoImRlbGl2ZXJ5X2R1cmF0aW9uIikuYWxpYXMoImF2Z19kZWxpdmVyeV90aW1lX21pbnMiKSkgXAogICAgLm9yZGVyQnkoY29sKCJhdmdfZGVsaXZlcnlfdGltZV9taW5zIikuZGVzYygpKQoKZGlzcGxheShhdmdfZGVsaXZlcnlfdGltZV9kZikK\").decode())\n\ntry:\n    # run user code\n    __backend_agg_user_code_fn()\n\n    #reset display function\n    display = __backend_agg_display_orig\n\n    if len(__backend_agg_dfs) > 0:\n        # create a temp view\n        if type(__backend_agg_dfs[0]).__module__ == \"databricks.koalas.frame\":\n            # koalas dataframe\n            __backend_agg_dfs[0].to_spark().createOrReplaceTempView(\"DatabricksViewfdd15ad\")\n        elif type(__backend_agg_dfs[0]).__module__ == \"pandas.core.frame\" or isinstance(__backend_agg_dfs[0], list):\n            # pandas dataframe\n            spark.createDataFrame(__backend_agg_dfs[0]).createOrReplaceTempView(\"DatabricksViewfdd15ad\")\n        else:\n            __backend_agg_dfs[0].createOrReplaceTempView(\"DatabricksViewfdd15ad\")\n        #run backend agg\n        display(spark.sql(\"\"\"WITH q AS (select * from DatabricksViewfdd15ad) SELECT `restaurant_id`,SUM(`avg_delivery_time_mins`) `column_d0882a4357` FROM q GROUP BY `restaurant_id`\"\"\"))\n    else:\n        displayHTML(\"dataframe no longer exists. If you're using dataframe.display(), use display(dataframe) instead.\")\n\n\nfinally:\n    spark.sql(\"drop view if exists DatabricksViewfdd15ad\")\n    display = __backend_agg_display_orig\n    del __backend_agg_display_new\n    del __backend_agg_display_orig\n    del __backend_agg_dfs\n    del __backend_agg_user_code_fn\n\n",
       "commandTitle": "Visualization 1",
       "commandType": "auto",
       "commandVersion": 0,
       "commentThread": [],
       "commentsVisible": false,
       "contentSha256Hex": null,
       "customPlotOptions": {
        "redashChart": [
         {
          "key": "type",
          "value": "CHART"
         },
         {
          "key": "options",
          "value": {
           "alignYAxesAtZero": true,
           "coefficient": 1,
           "columnConfigurationMap": {
            "x": {
             "column": "restaurant_id",
             "id": "column_d0882a4355"
            },
            "y": [
             {
              "column": "avg_delivery_time_mins",
              "id": "column_d0882a4357",
              "transform": "SUM"
             }
            ]
           },
           "dateTimeFormat": "DD/MM/YYYY HH:mm",
           "direction": {
            "type": "counterclockwise"
           },
           "error_y": {
            "type": "data",
            "visible": true
           },
           "globalSeriesType": "column",
           "isAggregationOn": true,
           "legend": {
            "traceorder": "normal"
           },
           "missingValuesAsZero": true,
           "numberFormat": "0,0.[00000]",
           "percentFormat": "0[.]00%",
           "series": {
            "error_y": {
             "type": "data",
             "visible": true
            },
            "stacking": "stack"
           },
           "seriesOptions": {
            "column_d0882a4357": {
             "name": "avg_delivery_time_mins",
             "yAxis": 0
            }
           },
           "showDataLabels": false,
           "sizemode": "diameter",
           "sortX": true,
           "sortY": true,
           "swappedAxes": true,
           "textFormat": "",
           "useAggregationsUi": true,
           "valuesOptions": {},
           "version": 2,
           "xAxis": {
            "labels": {
             "enabled": true
            },
            "type": "-"
           },
           "yAxis": [
            {
             "type": "-"
            },
            {
             "opposite": true,
             "type": "-"
            }
           ]
          }
         }
        ]
       },
       "datasetPreviewNameToCmdIdMap": {},
       "diffDeletes": [],
       "diffInserts": [],
       "displayType": "redashChart",
       "error": null,
       "errorDetails": null,
       "errorSummary": null,
       "errorTraceType": null,
       "finishTime": 0,
       "globalVars": {},
       "guid": "",
       "height": "auto",
       "hideCommandCode": false,
       "hideCommandResult": false,
       "iPythonMetadata": null,
       "inputWidgets": {},
       "isLockedInExamMode": false,
       "latestUser": "a user",
       "latestUserId": null,
       "listResultMetadata": null,
       "metadata": {},
       "nuid": "320d3660-c894-421d-94c5-e53ad04a7ec4",
       "origId": 0,
       "parentHierarchy": [],
       "pivotAggregation": null,
       "pivotColumns": null,
       "position": 5.0,
       "resultDbfsErrorMessage": null,
       "resultDbfsStatus": "INLINED_IN_TREE",
       "results": null,
       "showCommandTitle": false,
       "startTime": 0,
       "state": "input",
       "streamStates": {},
       "subcommandOptions": {
        "queryPlan": {
         "groups": [
          {
           "column": "restaurant_id",
           "type": "column"
          }
         ],
         "selects": [
          {
           "column": "restaurant_id",
           "type": "column"
          },
          {
           "alias": "column_d0882a4357",
           "args": [
            {
             "column": "avg_delivery_time_mins",
             "type": "column"
            }
           ],
           "function": "SUM",
           "type": "function"
          }
         ]
        }
       },
       "submitTime": 0,
       "subtype": "tableResultSubCmd.visualization",
       "tableResultIndex": 0,
       "tableResultSettingsMap": {},
       "useConsistentColors": false,
       "version": "CommandV1",
       "width": "auto",
       "workflows": [],
       "xColumns": null,
       "yColumns": null
      }
     },
     "output_type": "display_data"
    }
   ],
   "source": [
    "# Analysis 2: Average Delivery Time per Restaurant\n",
    "\n",
    "avg_delivery_time_df = orders_df.groupBy(\"restaurant_id\", \"restaurant_name\") \\\n",
    "    .agg(avg(\"delivery_duration\").alias(\"avg_delivery_time_mins\")) \\\n",
    "    .orderBy(col(\"avg_delivery_time_mins\").desc())\n",
    "\n",
    "display(avg_delivery_time_df)\n"
   ]
  },
  {
   "cell_type": "code",
   "execution_count": 0,
   "metadata": {
    "application/vnd.databricks.v1+cell": {
     "cellMetadata": {
      "byteLimit": 2048000,
      "rowLimit": 10000
     },
     "inputWidgets": {},
     "nuid": "dd11a623-f488-468f-8eb1-debc5706e8b4",
     "showTitle": false,
     "tableResultSettingsMap": {},
     "title": ""
    }
   },
   "outputs": [],
   "source": [
    "# create sql view\n",
    "orders_df.createOrReplaceTempView(\"orders_table\")"
   ]
  },
  {
   "cell_type": "code",
   "execution_count": 0,
   "metadata": {
    "application/vnd.databricks.v1+cell": {
     "cellMetadata": {
      "byteLimit": 2048000,
      "implicitDf": true,
      "rowLimit": 10000
     },
     "inputWidgets": {},
     "nuid": "4f1838c4-05a5-46d0-b61d-9b2411cc6c7d",
     "showTitle": false,
     "tableResultSettingsMap": {},
     "title": ""
    }
   },
   "outputs": [
    {
     "output_type": "display_data",
     "data": {
      "text/html": [
       "<style scoped>\n",
       "  .table-result-container {\n",
       "    max-height: 300px;\n",
       "    overflow: auto;\n",
       "  }\n",
       "  table, th, td {\n",
       "    border: 1px solid black;\n",
       "    border-collapse: collapse;\n",
       "  }\n",
       "  th, td {\n",
       "    padding: 5px;\n",
       "  }\n",
       "  th {\n",
       "    text-align: left;\n",
       "  }\n",
       "</style><div class='table-result-container'><table class='table-result'><thead style='background-color: white'><tr><th>customer_id</th><th>customer_name</th><th>cancellations</th></tr></thead><tbody></tbody></table></div>"
      ]
     },
     "metadata": {
      "application/vnd.databricks.v1+output": {
       "addedWidgets": {},
       "aggData": [],
       "aggError": "",
       "aggOverflow": false,
       "aggSchema": [],
       "aggSeriesLimitReached": false,
       "aggType": "",
       "arguments": {},
       "columnCustomDisplayInfos": {},
       "data": [],
       "datasetInfos": [
        {
         "name": "_sqldf",
         "schema": {
          "fields": [
           {
            "metadata": {},
            "name": "customer_id",
            "nullable": true,
            "type": "string"
           },
           {
            "metadata": {},
            "name": "customer_name",
            "nullable": true,
            "type": "string"
           },
           {
            "metadata": {},
            "name": "cancellations",
            "nullable": false,
            "type": "long"
           }
          ],
          "type": "struct"
         },
         "tableIdentifier": null,
         "typeStr": "pyspark.sql.connect.dataframe.DataFrame"
        }
       ],
       "dbfsResultPath": null,
       "isJsonSchema": true,
       "metadata": {
        "createTempViewForImplicitDf": true,
        "dataframeName": "_sqldf",
        "executionCount": 33
       },
       "overflow": false,
       "plotOptions": {
        "customPlotOptions": {},
        "displayType": "table",
        "pivotAggregation": null,
        "pivotColumns": null,
        "xColumns": null,
        "yColumns": null
       },
       "removedWidgets": [],
       "schema": [
        {
         "metadata": "{}",
         "name": "customer_id",
         "type": "\"string\""
        },
        {
         "metadata": "{}",
         "name": "customer_name",
         "type": "\"string\""
        },
        {
         "metadata": "{}",
         "name": "cancellations",
         "type": "\"long\""
        }
       ],
       "type": "table"
      }
     },
     "output_type": "display_data"
    }
   ],
   "source": [
    "%sql\n",
    "/* Identify Customers with Frequent Cancellations */\n",
    "\n",
    "SELECT customer_id, customer_name, COUNT(*) as cancellations\n",
    "FROM orders_table\n",
    "WHERE cancelled = 1\n",
    "GROUP BY customer_id, customer_name\n",
    "HAVING COUNT(*) >= 2\n",
    "ORDER BY cancellations DESC;\n"
   ]
  },
  {
   "cell_type": "code",
   "execution_count": 0,
   "metadata": {
    "application/vnd.databricks.v1+cell": {
     "cellMetadata": {
      "byteLimit": 2048000,
      "implicitDf": true,
      "rowLimit": 10000
     },
     "inputWidgets": {},
     "nuid": "9c8f9d9c-94b8-4029-ae4c-7c7b5f95e91a",
     "showTitle": false,
     "tableResultSettingsMap": {},
     "title": ""
    }
   },
   "outputs": [
    {
     "output_type": "display_data",
     "data": {
      "text/html": [
       "<style scoped>\n",
       "  .table-result-container {\n",
       "    max-height: 300px;\n",
       "    overflow: auto;\n",
       "  }\n",
       "  table, th, td {\n",
       "    border: 1px solid black;\n",
       "    border-collapse: collapse;\n",
       "  }\n",
       "  th, td {\n",
       "    padding: 5px;\n",
       "  }\n",
       "  th {\n",
       "    text-align: left;\n",
       "  }\n",
       "</style><div class='table-result-container'><table class='table-result'><thead style='background-color: white'><tr><th>order_hour</th><th>total_orders</th></tr></thead><tbody><tr><td>21</td><td>9</td></tr><tr><td>14</td><td>8</td></tr><tr><td>15</td><td>7</td></tr><tr><td>23</td><td>7</td></tr><tr><td>12</td><td>6</td></tr><tr><td>18</td><td>5</td></tr><tr><td>22</td><td>5</td></tr><tr><td>13</td><td>4</td></tr><tr><td>11</td><td>4</td></tr><tr><td>8</td><td>4</td></tr><tr><td>10</td><td>3</td></tr><tr><td>9</td><td>3</td></tr><tr><td>19</td><td>3</td></tr><tr><td>16</td><td>2</td></tr><tr><td>17</td><td>1</td></tr></tbody></table></div>"
      ]
     },
     "metadata": {
      "application/vnd.databricks.v1+output": {
       "addedWidgets": {},
       "aggData": [],
       "aggError": "",
       "aggOverflow": false,
       "aggSchema": [],
       "aggSeriesLimitReached": false,
       "aggType": "",
       "arguments": {},
       "columnCustomDisplayInfos": {},
       "data": [
        [
         21,
         9
        ],
        [
         14,
         8
        ],
        [
         15,
         7
        ],
        [
         23,
         7
        ],
        [
         12,
         6
        ],
        [
         18,
         5
        ],
        [
         22,
         5
        ],
        [
         13,
         4
        ],
        [
         11,
         4
        ],
        [
         8,
         4
        ],
        [
         10,
         3
        ],
        [
         9,
         3
        ],
        [
         19,
         3
        ],
        [
         16,
         2
        ],
        [
         17,
         1
        ]
       ],
       "datasetInfos": [
        {
         "name": "_sqldf",
         "schema": {
          "fields": [
           {
            "metadata": {},
            "name": "order_hour",
            "nullable": true,
            "type": "integer"
           },
           {
            "metadata": {},
            "name": "total_orders",
            "nullable": false,
            "type": "long"
           }
          ],
          "type": "struct"
         },
         "tableIdentifier": null,
         "typeStr": "pyspark.sql.connect.dataframe.DataFrame"
        }
       ],
       "dbfsResultPath": null,
       "isJsonSchema": true,
       "metadata": {
        "createTempViewForImplicitDf": true,
        "dataframeName": "_sqldf",
        "executionCount": 36
       },
       "overflow": false,
       "plotOptions": {
        "customPlotOptions": {},
        "displayType": "table",
        "pivotAggregation": null,
        "pivotColumns": null,
        "xColumns": null,
        "yColumns": null
       },
       "removedWidgets": [],
       "schema": [
        {
         "metadata": "{}",
         "name": "order_hour",
         "type": "\"integer\""
        },
        {
         "metadata": "{}",
         "name": "total_orders",
         "type": "\"long\""
        }
       ],
       "type": "table"
      }
     },
     "output_type": "display_data"
    },
    {
     "output_type": "display_data",
     "data": {
      "text/plain": [
       "Databricks visualization. Run in Databricks to view."
      ]
     },
     "metadata": {
      "application/vnd.databricks.v1.subcommand+json": {
       "baseErrorDetails": null,
       "bindings": {},
       "collapsed": false,
       "command": "%sql WITH q AS (SELECT hour(order_time) as order_hour, COUNT(*) as total_orders\nFROM orders_table\nWHERE cancelled = 0\nGROUP BY hour(order_time)\nORDER BY total_orders DESC) SELECT `order_hour`,SUM(`total_orders`) `column_d0882a4369` FROM q GROUP BY `order_hour`",
       "commandTitle": "Visualization 1",
       "commandType": "auto",
       "commandVersion": 0,
       "commentThread": [],
       "commentsVisible": false,
       "contentSha256Hex": null,
       "customPlotOptions": {
        "redashChart": [
         {
          "key": "type",
          "value": "CHART"
         },
         {
          "key": "options",
          "value": {
           "alignYAxesAtZero": true,
           "coefficient": 1,
           "columnConfigurationMap": {
            "x": {
             "column": "order_hour",
             "id": "column_d0882a4368"
            },
            "y": [
             {
              "column": "total_orders",
              "id": "column_d0882a4369",
              "transform": "SUM"
             }
            ]
           },
           "dateTimeFormat": "DD/MM/YYYY HH:mm",
           "direction": {
            "type": "counterclockwise"
           },
           "error_y": {
            "type": "data",
            "visible": true
           },
           "globalSeriesType": "line",
           "isAggregationOn": true,
           "legend": {
            "traceorder": "normal"
           },
           "missingValuesAsZero": true,
           "numberFormat": "0,0.[00000]",
           "percentFormat": "0[.]00%",
           "series": {
            "error_y": {
             "type": "data",
             "visible": true
            },
            "stacking": null
           },
           "seriesOptions": {
            "column_d0882a4369": {
             "name": "total_orders",
             "type": "line",
             "yAxis": 0
            }
           },
           "showDataLabels": false,
           "sizemode": "diameter",
           "sortX": true,
           "sortY": true,
           "swappedAxes": false,
           "textFormat": "",
           "useAggregationsUi": true,
           "valuesOptions": {},
           "version": 2,
           "xAxis": {
            "labels": {
             "enabled": true
            },
            "type": "-"
           },
           "yAxis": [
            {
             "type": "-"
            },
            {
             "opposite": true,
             "type": "-"
            }
           ]
          }
         }
        ]
       },
       "datasetPreviewNameToCmdIdMap": {},
       "diffDeletes": [],
       "diffInserts": [],
       "displayType": "redashChart",
       "error": null,
       "errorDetails": null,
       "errorSummary": null,
       "errorTraceType": null,
       "finishTime": 0,
       "globalVars": {},
       "guid": "",
       "height": "auto",
       "hideCommandCode": false,
       "hideCommandResult": false,
       "iPythonMetadata": null,
       "inputWidgets": {},
       "isLockedInExamMode": false,
       "latestUser": "a user",
       "latestUserId": null,
       "listResultMetadata": null,
       "metadata": {},
       "nuid": "1530ab14-9875-42b0-84c8-4d47a668b0e6",
       "origId": 0,
       "parentHierarchy": [],
       "pivotAggregation": null,
       "pivotColumns": null,
       "position": 8.0,
       "resultDbfsErrorMessage": null,
       "resultDbfsStatus": "INLINED_IN_TREE",
       "results": null,
       "showCommandTitle": false,
       "startTime": 0,
       "state": "input",
       "streamStates": {},
       "subcommandOptions": {
        "queryPlan": {
         "groups": [
          {
           "column": "order_hour",
           "type": "column"
          }
         ],
         "selects": [
          {
           "column": "order_hour",
           "type": "column"
          },
          {
           "alias": "column_d0882a4369",
           "args": [
            {
             "column": "total_orders",
             "type": "column"
            }
           ],
           "function": "SUM",
           "type": "function"
          }
         ]
        }
       },
       "submitTime": 0,
       "subtype": "tableResultSubCmd.visualization",
       "tableResultIndex": 0,
       "tableResultSettingsMap": {},
       "useConsistentColors": false,
       "version": "CommandV1",
       "width": "auto",
       "workflows": [],
       "xColumns": null,
       "yColumns": null
      }
     },
     "output_type": "display_data"
    }
   ],
   "source": [
    "%sql\n",
    "/* Calculate Peak Order Hours */\n",
    "\n",
    "SELECT hour(order_time) as order_hour, COUNT(*) as total_orders\n",
    "FROM orders_table\n",
    "WHERE cancelled = 0\n",
    "GROUP BY hour(order_time)\n",
    "ORDER BY total_orders DESC;\n"
   ]
  },
  {
   "cell_type": "code",
   "execution_count": 0,
   "metadata": {
    "application/vnd.databricks.v1+cell": {
     "cellMetadata": {},
     "inputWidgets": {},
     "nuid": "5e7dd075-5134-4981-83fa-2af6d0b83488",
     "showTitle": false,
     "tableResultSettingsMap": {},
     "title": ""
    }
   },
   "outputs": [],
   "source": []
  }
 ],
 "metadata": {
  "application/vnd.databricks.v1+notebook": {
   "computePreferences": {
    "hardware": {
     "accelerator": null,
     "gpuPoolId": null,
     "memory": null
    }
   },
   "dashboards": [
    {
     "elements": [
      {
       "dashboardResultIndex": null,
       "elementNUID": "5891c75d-639f-42b1-873e-8cf8c6a2d472",
       "elementType": "command",
       "guid": "69d942ae-7fab-4602-b9fe-1e72914f9633",
       "options": null,
       "position": {
        "height": 6,
        "width": 12,
        "x": 0,
        "y": 0,
        "z": null
       },
       "resultIndex": null
      }
     ],
     "globalVars": {},
     "guid": "",
     "layoutOption": {
      "grid": true,
      "stack": true
     },
     "nuid": "d9b72783-e34f-47d0-89d7-9c78acb4b35b",
     "origId": 6858300822142324,
     "title": "Dashboard",
     "version": "DashboardViewV1",
     "width": 1024
    }
   ],
   "environmentMetadata": {
    "base_environment": "",
    "environment_version": "3"
   },
   "inputWidgetPreferences": null,
   "language": "python",
   "notebookMetadata": {
    "mostRecentlyExecutedCommandWithImplicitDF": {
     "commandId": 6858300822142321,
     "dataframes": [
      "_sqldf"
     ]
    },
    "pythonIndentUnit": 4
   },
   "notebookName": "Big_Data_Internal_Notebook",
   "widgets": {}
  },
  "language_info": {
   "name": "python"
  }
 },
 "nbformat": 4,
 "nbformat_minor": 0
}